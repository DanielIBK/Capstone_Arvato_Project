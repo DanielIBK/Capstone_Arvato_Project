{
 "cells": [
  {
   "cell_type": "markdown",
   "metadata": {},
   "source": [
    "# Capstone Project: Create a Customer Segmentation Report for Arvato Financial Services\n",
    "\n",
    "In this project, you will analyze demographics data for customers of a mail-order sales company in Germany, comparing it against demographics information for the general population. You'll use unsupervised learning techniques to perform customer segmentation, identifying the parts of the population that best describe the core customer base of the company. Then, you'll apply what you've learned on a third dataset with demographics information for targets of a marketing campaign for the company, and use a model to predict which individuals are most likely to convert into becoming customers for the company. The data that you will use has been provided by our partners at Bertelsmann Arvato Analytics, and represents a real-life data science task.\n",
    "\n",
    "The versions of those two datasets used in this project will include many more features and has not been pre-cleaned. You are also free to choose whatever approach you'd like to analyzing the data rather than follow pre-determined steps. In your work on this project, make sure that you carefully document your steps and decisions, since your main deliverable for this project will be a blog post reporting your findings."
   ]
  },
  {
   "cell_type": "code",
   "execution_count": 410,
   "metadata": {},
   "outputs": [],
   "source": [
    "# import libraries here; add more as necessary\n",
    "import numpy as np\n",
    "import pandas as pd\n",
    "import matplotlib.pyplot as plt\n",
    "import seaborn as sns\n",
    "\n",
    "\n",
    "from sklearn.pipeline import Pipeline\n",
    "from sklearn.preprocessing import StandardScaler, OneHotEncoder\n",
    "from sklearn.impute import  SimpleImputer\n",
    "from sklearn.compose import ColumnTransformer\n",
    "from sklearn.decomposition import PCA\n",
    "from sklearn.cluster import KMeans\n",
    "from sklearn.model_selection import learning_curve,  ShuffleSplit, RandomizedSearchCV, GridSearchCV\n",
    "\n",
    "from sklearn.ensemble import RandomForestClassifier, AdaBoostClassifier, GradientBoostingClassifier\n",
    "from sklearn.metrics import roc_auc_score\n",
    "#from sklearn.ensemble import HistGradientBoostingClassifier\n",
    "\n",
    "# magic word for producing visualizations in notebook\n",
    "%matplotlib inline"
   ]
  },
  {
   "cell_type": "markdown",
   "metadata": {},
   "source": [
    "## Part 0: Get to Know the Data\n",
    "\n",
    "There are four data files associated with this project:\n",
    "\n",
    "- `Udacity_AZDIAS_052018.csv`: Demographics data for the general population of Germany; 891 211 persons (rows) x 366 features (columns).\n",
    "- `Udacity_CUSTOMERS_052018.csv`: Demographics data for customers of a mail-order company; 191 652 persons (rows) x 369 features (columns).\n",
    "- `Udacity_MAILOUT_052018_TRAIN.csv`: Demographics data for individuals who were targets of a marketing campaign; 42 982 persons (rows) x 367 (columns).\n",
    "- `Udacity_MAILOUT_052018_TEST.csv`: Demographics data for individuals who were targets of a marketing campaign; 42 833 persons (rows) x 366 (columns).\n",
    "\n",
    "Each row of the demographics files represents a single person, but also includes information outside of individuals, including information about their household, building, and neighborhood. Use the information from the first two files to figure out how customers (\"CUSTOMERS\") are similar to or differ from the general population at large (\"AZDIAS\"), then use your analysis to make predictions on the other two files (\"MAILOUT\"), predicting which recipients are most likely to become a customer for the mail-order company.\n",
    "\n",
    "The \"CUSTOMERS\" file contains three extra columns ('CUSTOMER_GROUP', 'ONLINE_PURCHASE', and 'PRODUCT_GROUP'), which provide broad information about the customers depicted in the file. The original \"MAILOUT\" file included one additional column, \"RESPONSE\", which indicated whether or not each recipient became a customer of the company. For the \"TRAIN\" subset, this column has been retained, but in the \"TEST\" subset it has been removed; it is against that withheld column that your final predictions will be assessed in the Kaggle competition.\n",
    "\n",
    "Otherwise, all of the remaining columns are the same between the three data files. For more information about the columns depicted in the files, you can refer to two Excel spreadsheets provided in the workspace. [One of them](./DIAS Information Levels - Attributes 2017.xlsx) is a top-level list of attributes and descriptions, organized by informational category. [The other](./DIAS Attributes - Values 2017.xlsx) is a detailed mapping of data values for each feature in alphabetical order.\n",
    "\n",
    "In the below cell, we've provided some initial code to load in the first two datasets. Note for all of the `.csv` data files in this project that they're semicolon (`;`) delimited, so an additional argument in the [`read_csv()`](https://pandas.pydata.org/pandas-docs/stable/generated/pandas.read_csv.html) call has been included to read in the data properly. Also, considering the size of the datasets, it may take some time for them to load completely.\n",
    "\n",
    "You'll notice when the data is loaded in that a warning message will immediately pop up. Before you really start digging into the modeling and analysis, you're going to need to perform some cleaning. Take some time to browse the structure of the data and look over the informational spreadsheets to understand the data values. Make some decisions on which features to keep, which features to drop, and if any revisions need to be made on data formats. It'll be a good idea to create a function with pre-processing steps, since you'll need to clean all of the datasets before you work with them."
   ]
  },
  {
   "cell_type": "code",
   "execution_count": 52,
   "metadata": {},
   "outputs": [],
   "source": [
    "# load in the data\n",
    "# azdias = pd.read_csv(r'./data/Udacity_AZDIAS_052018.csv', sep=';', low_memory=False)\n",
    "# customers = pd.read_csv(r'./data/Udacity_CUSTOMERS_052018.csv', sep=';', low_memory=False)"
   ]
  },
  {
   "cell_type": "code",
   "execution_count": 53,
   "metadata": {},
   "outputs": [
    {
     "name": "stdout",
     "output_type": "stream",
     "text": [
      "(891221, 366)\n",
      "(191652, 369)\n"
     ]
    }
   ],
   "source": [
    "# Pickle the data downloaded from the Udacity workspace\n",
    "# azdias.to_pickle('./data/azdias.pickle')\n",
    "# customers.to_pickle('./data/customers.pickle')\n",
    "\n",
    "# Load as pickle\n",
    "azdias = pd.read_pickle('./data/azdias.pickle')\n",
    "print(azdias.shape)\n",
    "customers =pd.read_pickle('./data/customers.pickle')\n",
    "print(customers.shape)"
   ]
  },
  {
   "cell_type": "code",
   "execution_count": 54,
   "metadata": {},
   "outputs": [
    {
     "data": {
      "text/plain": [
       "LNR                       int64\n",
       "AGER_TYP                  int64\n",
       "AKT_DAT_KL              float64\n",
       "ALTER_HH                float64\n",
       "ALTER_KIND1             float64\n",
       "                         ...   \n",
       "WOHNDAUER_2008          float64\n",
       "WOHNLAGE                float64\n",
       "ZABEOTYP                  int64\n",
       "ANREDE_KZ                 int64\n",
       "ALTERSKATEGORIE_GROB      int64\n",
       "Length: 366, dtype: object"
      ]
     },
     "execution_count": 54,
     "metadata": {},
     "output_type": "execute_result"
    }
   ],
   "source": [
    "# Be sure to add in a lot more cells (both markdown and code) to document your\n",
    "# approach and findings!\n",
    "azdias.head(10)\n",
    "azdias.dtypes"
   ]
  },
  {
   "cell_type": "code",
   "execution_count": 84,
   "metadata": {},
   "outputs": [
    {
     "ename": "AttributeError",
     "evalue": "'Timestamp' object has no attribute 'dt'",
     "output_type": "error",
     "traceback": [
      "\u001b[1;31m---------------------------------------------------------------------------\u001b[0m",
      "\u001b[1;31mAttributeError\u001b[0m                            Traceback (most recent call last)",
      "\u001b[1;32m~\\AppData\\Local\\Temp/ipykernel_259872/4279366954.py\u001b[0m in \u001b[0;36m<module>\u001b[1;34m\u001b[0m\n\u001b[0;32m      1\u001b[0m \u001b[0mazdias\u001b[0m\u001b[1;33m[\u001b[0m\u001b[1;34m'EINGEFUEGT_AM'\u001b[0m\u001b[1;33m]\u001b[0m\u001b[1;33m.\u001b[0m\u001b[0mhead\u001b[0m\u001b[1;33m(\u001b[0m\u001b[1;36m5\u001b[0m\u001b[1;33m)\u001b[0m\u001b[1;33m\u001b[0m\u001b[1;33m\u001b[0m\u001b[0m\n\u001b[1;32m----> 2\u001b[1;33m \u001b[0mpd\u001b[0m\u001b[1;33m.\u001b[0m\u001b[0mto_datetime\u001b[0m\u001b[1;33m(\u001b[0m\u001b[0mazdias\u001b[0m\u001b[1;33m[\u001b[0m\u001b[1;34m'EINGEFUEGT_AM'\u001b[0m\u001b[1;33m]\u001b[0m\u001b[1;33m[\u001b[0m\u001b[1;36m2\u001b[0m\u001b[1;33m]\u001b[0m\u001b[1;33m,\u001b[0m \u001b[0mformat\u001b[0m\u001b[1;33m=\u001b[0m\u001b[1;34m'%Y-%m-%d '\u001b[0m\u001b[1;33m)\u001b[0m\u001b[1;33m.\u001b[0m\u001b[0mdt\u001b[0m\u001b[1;33m.\u001b[0m\u001b[0myear\u001b[0m\u001b[1;33m\u001b[0m\u001b[1;33m\u001b[0m\u001b[0m\n\u001b[0m",
      "\u001b[1;31mAttributeError\u001b[0m: 'Timestamp' object has no attribute 'dt'"
     ]
    }
   ],
   "source": [
    "azdias['EINGEFUEGT_AM'].head(5)\n",
    "pd.to_datetime(azdias['EINGEFUEGT_AM'][2], format='%Y-%m-%d ').dt.year"
   ]
  },
  {
   "cell_type": "code",
   "execution_count": 56,
   "metadata": {},
   "outputs": [
    {
     "data": {
      "text/plain": [
       "LNR                          0\n",
       "AGER_TYP                     0\n",
       "AKT_DAT_KL               73499\n",
       "ALTER_HH                 73499\n",
       "ALTER_KIND1             810163\n",
       "                         ...  \n",
       "WOHNDAUER_2008           73499\n",
       "WOHNLAGE                 93148\n",
       "ZABEOTYP                     0\n",
       "ANREDE_KZ                    0\n",
       "ALTERSKATEGORIE_GROB         0\n",
       "Length: 366, dtype: int64"
      ]
     },
     "execution_count": 56,
     "metadata": {},
     "output_type": "execute_result"
    }
   ],
   "source": [
    "azdias.isna().sum(axis=1)\n",
    "azdias.isna().sum()"
   ]
  },
  {
   "cell_type": "code",
   "execution_count": 57,
   "metadata": {},
   "outputs": [
    {
     "data": {
      "text/plain": [
       "{'CUSTOMER_GROUP', 'ONLINE_PURCHASE', 'PRODUCT_GROUP'}"
      ]
     },
     "execution_count": 57,
     "metadata": {},
     "output_type": "execute_result"
    }
   ],
   "source": [
    "# Differences in columns\n",
    "set(customers.columns) - set(azdias.columns)"
   ]
  },
  {
   "cell_type": "code",
   "execution_count": 58,
   "metadata": {},
   "outputs": [
    {
     "data": {
      "text/html": [
       "<div>\n",
       "<style scoped>\n",
       "    .dataframe tbody tr th:only-of-type {\n",
       "        vertical-align: middle;\n",
       "    }\n",
       "\n",
       "    .dataframe tbody tr th {\n",
       "        vertical-align: top;\n",
       "    }\n",
       "\n",
       "    .dataframe thead th {\n",
       "        text-align: right;\n",
       "    }\n",
       "</style>\n",
       "<table border=\"1\" class=\"dataframe\">\n",
       "  <thead>\n",
       "    <tr style=\"text-align: right;\">\n",
       "      <th></th>\n",
       "      <th>CAMEO_DEU_2015</th>\n",
       "      <th>CAMEO_DEUG_2015</th>\n",
       "      <th>CAMEO_INTL_2015</th>\n",
       "      <th>D19_LETZTER_KAUF_BRANCHE</th>\n",
       "      <th>EINGEFUEGT_AM</th>\n",
       "      <th>OST_WEST_KZ</th>\n",
       "    </tr>\n",
       "  </thead>\n",
       "  <tbody>\n",
       "    <tr>\n",
       "      <th>0</th>\n",
       "      <td>NaN</td>\n",
       "      <td>NaN</td>\n",
       "      <td>NaN</td>\n",
       "      <td>NaN</td>\n",
       "      <td>NaN</td>\n",
       "      <td>NaN</td>\n",
       "    </tr>\n",
       "    <tr>\n",
       "      <th>1</th>\n",
       "      <td>8A</td>\n",
       "      <td>8.0</td>\n",
       "      <td>51.0</td>\n",
       "      <td>NaN</td>\n",
       "      <td>1992-02-10 00:00:00</td>\n",
       "      <td>W</td>\n",
       "    </tr>\n",
       "    <tr>\n",
       "      <th>2</th>\n",
       "      <td>4C</td>\n",
       "      <td>4.0</td>\n",
       "      <td>24.0</td>\n",
       "      <td>D19_UNBEKANNT</td>\n",
       "      <td>1992-02-12 00:00:00</td>\n",
       "      <td>W</td>\n",
       "    </tr>\n",
       "    <tr>\n",
       "      <th>3</th>\n",
       "      <td>2A</td>\n",
       "      <td>2.0</td>\n",
       "      <td>12.0</td>\n",
       "      <td>D19_UNBEKANNT</td>\n",
       "      <td>1997-04-21 00:00:00</td>\n",
       "      <td>W</td>\n",
       "    </tr>\n",
       "    <tr>\n",
       "      <th>4</th>\n",
       "      <td>6B</td>\n",
       "      <td>6.0</td>\n",
       "      <td>43.0</td>\n",
       "      <td>D19_SCHUHE</td>\n",
       "      <td>1992-02-12 00:00:00</td>\n",
       "      <td>W</td>\n",
       "    </tr>\n",
       "    <tr>\n",
       "      <th>...</th>\n",
       "      <td>...</td>\n",
       "      <td>...</td>\n",
       "      <td>...</td>\n",
       "      <td>...</td>\n",
       "      <td>...</td>\n",
       "      <td>...</td>\n",
       "    </tr>\n",
       "    <tr>\n",
       "      <th>891216</th>\n",
       "      <td>7A</td>\n",
       "      <td>7.0</td>\n",
       "      <td>41.0</td>\n",
       "      <td>D19_HAUS_DEKO</td>\n",
       "      <td>1992-02-10 00:00:00</td>\n",
       "      <td>W</td>\n",
       "    </tr>\n",
       "    <tr>\n",
       "      <th>891217</th>\n",
       "      <td>9D</td>\n",
       "      <td>9.0</td>\n",
       "      <td>51.0</td>\n",
       "      <td>D19_UNBEKANNT</td>\n",
       "      <td>1992-02-10 00:00:00</td>\n",
       "      <td>W</td>\n",
       "    </tr>\n",
       "    <tr>\n",
       "      <th>891218</th>\n",
       "      <td>4C</td>\n",
       "      <td>4.0</td>\n",
       "      <td>24.0</td>\n",
       "      <td>D19_BEKLEIDUNG_GEH</td>\n",
       "      <td>1992-02-10 00:00:00</td>\n",
       "      <td>W</td>\n",
       "    </tr>\n",
       "    <tr>\n",
       "      <th>891219</th>\n",
       "      <td>9D</td>\n",
       "      <td>9.0</td>\n",
       "      <td>51.0</td>\n",
       "      <td>D19_UNBEKANNT</td>\n",
       "      <td>1992-02-12 00:00:00</td>\n",
       "      <td>W</td>\n",
       "    </tr>\n",
       "    <tr>\n",
       "      <th>891220</th>\n",
       "      <td>6B</td>\n",
       "      <td>6.0</td>\n",
       "      <td>43.0</td>\n",
       "      <td>NaN</td>\n",
       "      <td>1992-02-10 00:00:00</td>\n",
       "      <td>W</td>\n",
       "    </tr>\n",
       "  </tbody>\n",
       "</table>\n",
       "<p>891221 rows × 6 columns</p>\n",
       "</div>"
      ],
      "text/plain": [
       "       CAMEO_DEU_2015 CAMEO_DEUG_2015 CAMEO_INTL_2015  \\\n",
       "0                 NaN             NaN             NaN   \n",
       "1                  8A             8.0            51.0   \n",
       "2                  4C             4.0            24.0   \n",
       "3                  2A             2.0            12.0   \n",
       "4                  6B             6.0            43.0   \n",
       "...               ...             ...             ...   \n",
       "891216             7A             7.0            41.0   \n",
       "891217             9D             9.0            51.0   \n",
       "891218             4C             4.0            24.0   \n",
       "891219             9D             9.0            51.0   \n",
       "891220             6B             6.0            43.0   \n",
       "\n",
       "       D19_LETZTER_KAUF_BRANCHE        EINGEFUEGT_AM OST_WEST_KZ  \n",
       "0                           NaN                  NaN         NaN  \n",
       "1                           NaN  1992-02-10 00:00:00           W  \n",
       "2                 D19_UNBEKANNT  1992-02-12 00:00:00           W  \n",
       "3                 D19_UNBEKANNT  1997-04-21 00:00:00           W  \n",
       "4                    D19_SCHUHE  1992-02-12 00:00:00           W  \n",
       "...                         ...                  ...         ...  \n",
       "891216            D19_HAUS_DEKO  1992-02-10 00:00:00           W  \n",
       "891217            D19_UNBEKANNT  1992-02-10 00:00:00           W  \n",
       "891218       D19_BEKLEIDUNG_GEH  1992-02-10 00:00:00           W  \n",
       "891219            D19_UNBEKANNT  1992-02-12 00:00:00           W  \n",
       "891220                      NaN  1992-02-10 00:00:00           W  \n",
       "\n",
       "[891221 rows x 6 columns]"
      ]
     },
     "execution_count": 58,
     "metadata": {},
     "output_type": "execute_result"
    }
   ],
   "source": [
    "# Show object dtypes\n",
    "azdias.select_dtypes(['object'])"
   ]
  },
  {
   "cell_type": "code",
   "execution_count": 59,
   "metadata": {},
   "outputs": [
    {
     "name": "stdout",
     "output_type": "stream",
     "text": [
      "CAMEO_DEU_2015\n",
      "CAMEO_DEUG_2015\n",
      "CAMEO_INTL_2015\n",
      "D19_LETZTER_KAUF_BRANCHE\n",
      "EINGEFUEGT_AM\n",
      "OST_WEST_KZ\n"
     ]
    }
   ],
   "source": [
    "for c in azdias.select_dtypes(['object']).columns:\n",
    "    print(c)\n",
    "    "
   ]
  },
  {
   "attachments": {},
   "cell_type": "markdown",
   "metadata": {},
   "source": [
    "## Part 0: Data Wrangling and Preprocessing"
   ]
  },
  {
   "cell_type": "code",
   "execution_count": 195,
   "metadata": {},
   "outputs": [],
   "source": [
    "def drop_col(df, cols_drop):\n",
    "    \"\"\"Returns a cleaned dataframe object. And also a summary of the retured df is printed.\n",
    "\n",
    "    Args:\n",
    "        df (dataframe): The input dataframe that should be cleaned.\n",
    "        cols_drop (list): A list of columns that should be dropped_description_\n",
    "        test (_type_): _description_\n",
    "\n",
    "    Returns:\n",
    "        df: A dataframe cleaned by the input cols_drop\n",
    "    \"\"\"\n",
    "    df_clean = df.drop(cols_drop, axis=1, inplace=True)\n",
    "    #df_clean.isna\n",
    "\n",
    "    # Print summary\n",
    "    # print('From an input shape of: {} the returned shape is: {}'.format(df.shape, df_clean.shape))\n",
    "    # print('The initial datatype were: {}'.format(df.dtypes))\n",
    "    # print('The output datatype are: {}'.format(df_clean.dtypes))\n",
    "    return df_clean"
   ]
  },
  {
   "cell_type": "code",
   "execution_count": 306,
   "metadata": {},
   "outputs": [],
   "source": [
    "def draw_learning_curves(X, y, estimator, num_trainings):\n",
    "    \"\"\"\n",
    "    Draw learning curve that shows the validation and training auc_score of an estimator \n",
    "    for varying numbers of training samples.\n",
    "    \n",
    "    Input:\n",
    "        X: array like sample\n",
    "        y: array like target relative to X2 sample\n",
    "        estimator: object type that implements the “fit” and “predict” methods\n",
    "        num_trainings (int): number of training samples to plot\n",
    "        \n",
    "    Output:\n",
    "        None\n",
    "    \"\"\"\n",
    "    \n",
    "    train_sizes, train_scores, test_scores = learning_curve(\n",
    "        estimator, X, y, scoring = 'roc_auc', \n",
    "        train_sizes=np.linspace(.1, 1.0, num_trainings),\n",
    "        cv = ShuffleSplit(n_splits=3, test_size=0.2, random_state=random_state),\n",
    "        )\n",
    "\n",
    "    train_scores_mean = np.mean(train_scores, axis=1)\n",
    "    test_scores_mean = np.mean(test_scores, axis=1)\n",
    "    print(\"AUC train score = {}\".format(train_scores_mean[-1].round(2)))\n",
    "    print(\"AUC validation score = {}\".format(test_scores_mean[-1].round(2)))\n",
    "    plt.grid()\n",
    "\n",
    "    plt.title(\"Learning Curves\")\n",
    "    plt.xlabel(\"% of training set\")\n",
    "    plt.ylabel(\"Score\")\n",
    "\n",
    "    plt.plot(np.linspace(.1, 1.0, num_trainings)*100, train_scores_mean, 'o-', color=\"r\",\n",
    "             label=\"Training score\")\n",
    "    plt.plot(np.linspace(.1, 1.0, num_trainings)*100, test_scores_mean, 'o-', color=\"b\",\n",
    "             label=\"Cross-validation score\")\n",
    "\n",
    "    plt.yticks(np.arange(0.45, 1.02, 0.05))\n",
    "    plt.xticks(np.arange(0., 100.05, 10))\n",
    "    plt.legend(loc=\"best\")\n",
    "    print(\"\")\n",
    "    plt.show()"
   ]
  },
  {
   "cell_type": "code",
   "execution_count": 196,
   "metadata": {},
   "outputs": [],
   "source": [
    "# drop null values for a given threshold\n",
    "\n",
    "def drop_col_based_thres(df, threshold = 0.25):\n",
    "    \"\"\"A function that drops all columns based on missing values by a given threshold in percent.\n",
    "\n",
    "    Args:\n",
    "        df (dataframe): A input dataframe that should be cleaned for missing values by rows\n",
    "        threshold (lilst): The threshold in decimal number percent 40% -> 0.4\n",
    "\n",
    "    Returns:\n",
    "        df_clean (dataframe): A cleaned version of the input dataframe\n",
    "    \"\"\"\n",
    "    \n",
    "    # Get the share of null values for each column                     \n",
    "    null_shares = df.isnull().sum()/len(df)\n",
    "    # Get the columns with a null share over the threshold\n",
    "    drop_cols = list(null_shares[null_shares>threshold].index)\n",
    "    # Clean the df by the identified columns\n",
    "    df_clean = df.drop(drop_cols, axis=1)\n",
    "    print('Shape before cleaning {}/nShape after cleaning {}'.format(df.shape, df_clean.shape))            \n",
    "    return df_clean\n",
    "\n",
    "def replace_nans(df, col_names: list , col_values:list , replace_value:list ):\n",
    "    \"\"\"_summary_\n",
    "\n",
    "    Args:\n",
    "        df (dataframe): Input dataframe\n",
    "        col_names (list): A list of columns which should be proceeded for the replacement\n",
    "        col_values (list): Search values that should be replaced by replace_value in the same order \n",
    "        replace_value (list): A list in the same order als col_values which these should be replaced with\n",
    "\n",
    "    Returns:\n",
    "        df_replaced (dataframe): The output dataframe after replacing the values in the columns by the replacement values\n",
    "    \"\"\"\n",
    "    df_replaced = df\n",
    "    df_new_cols = df[col_names].replace(col_values,-1).fillna(-1).astype(int)\n",
    "    df_replaced[col_names] = df_new_cols\n",
    "    #### Handle the remaining categorical variables\n",
    "    df_replaced['OST_WEST_KZ'].replace('O', 0, inplace=True)\n",
    "    df_replaced['OST_WEST_KZ'].replace('W', 1, inplace=True)\n",
    "    df_replaced['OST_WEST_KZ'] = pd.to_numeric(df_replaced['OST_WEST_KZ'], errors = 'coerce')\n",
    "    \n",
    "    \n",
    "    return df_replaced\n",
    "\n",
    "\n",
    "def timeseries_to_year(df):\n",
    "    \"\"\"Converts a columns in a df to datetime type and keeps only the year.\n",
    "\n",
    "    Args:\n",
    "        df (dataframe): Input dataframe\n",
    "        #col_names (list): A list of columns which should be proceeded for converting. Timeseries format is '%Y-%m-%d '\n",
    "\n",
    "    Returns:\n",
    "        df_clean (dataframe): A dataframe where the column is converted as a time series with only the year\n",
    "    \"\"\"\n",
    "    df_cleaned = df\n",
    "    df_cleaned['EINGEFUEGT_AM'] = pd.to_datetime(df['EINGEFUEGT_AM'], format='%Y-%m-%d ').dt.year\n",
    "\n",
    "    return df_cleaned"
   ]
  },
  {
   "cell_type": "code",
   "execution_count": null,
   "metadata": {},
   "outputs": [],
   "source": [
    "col_names = ['CAMEO_DEUG_2015','CAMEO_INTL_2015'] #Replace and fill na\n",
    "col_names_2 = ['CAMEO_DEU_2015','OST_WEST_KZ'] #Fill na\n",
    "col_values  = ['X', 'XX']\n",
    "col_replace_values = [-1]"
   ]
  },
  {
   "attachments": {},
   "cell_type": "markdown",
   "metadata": {},
   "source": [
    "##### Azdias dataframe"
   ]
  },
  {
   "cell_type": "code",
   "execution_count": 205,
   "metadata": {},
   "outputs": [
    {
     "name": "stdout",
     "output_type": "stream",
     "text": [
      "Shape before cleaning (891221, 366)/nShape after cleaning (891221, 350)\n",
      "   CAMEO_DEUG_2015  CAMEO_INTL_2015\n",
      "0               -1               -1\n",
      "1                8               51\n",
      "2                4               24\n",
      "3                2               12\n",
      "4                6               43\n",
      "5                8               54\n",
      "6                4               22\n",
      "7                2               14\n",
      "8                1               13\n",
      "9                1               15\n"
     ]
    }
   ],
   "source": [
    "# Clean azdias\n",
    "# Drop columns with not enough data\n",
    "azdias_cleaned = drop_col_based_thres(azdias)\n",
    "\n",
    "# Replace nan in cleaned dataframe\n",
    "# Replace nan in cleaned dataframe\n",
    "azdias_cleaned = replace_nans(azdias_cleaned, col_names, col_values, col_replace_values)\n",
    "print(azdias_cleaned[col_names].head(10))"
   ]
  },
  {
   "cell_type": "code",
   "execution_count": 207,
   "metadata": {},
   "outputs": [],
   "source": [
    "azdias_cleaned = timeseries_to_year(azdias_cleaned)"
   ]
  },
  {
   "cell_type": "code",
   "execution_count": 208,
   "metadata": {},
   "outputs": [
    {
     "data": {
      "text/plain": [
       "dtype('float64')"
      ]
     },
     "execution_count": 208,
     "metadata": {},
     "output_type": "execute_result"
    }
   ],
   "source": [
    "azdias_cleaned['OST_WEST_KZ'].dtype"
   ]
  },
  {
   "attachments": {},
   "cell_type": "markdown",
   "metadata": {},
   "source": [
    "##### Customers dataframe"
   ]
  },
  {
   "cell_type": "code",
   "execution_count": 211,
   "metadata": {},
   "outputs": [
    {
     "name": "stdout",
     "output_type": "stream",
     "text": [
      "   CAMEO_DEUG_2015  CAMEO_INTL_2015\n",
      "0                1               13\n",
      "1               -1               -1\n",
      "2                5               34\n",
      "3                4               24\n",
      "4                7               41\n",
      "5                5               34\n",
      "6                3               23\n",
      "7                1               15\n",
      "8                9               55\n",
      "9                1               15\n"
     ]
    }
   ],
   "source": [
    "# Clean customers\n",
    "# Drop the same values as in azdias for later analysis.\n",
    "\n",
    "drop_cust_cols  = set(customers.columns) - set(azdias_cleaned.columns)\n",
    "customers_cleaned = customers.drop( drop_cust_cols, axis=1)\n",
    "# The columns are dropped in customer dataset due to to many missing values\n",
    "#customers_cleaned = drop_col_based_thres(customers)\n",
    "\n",
    "\n",
    "# Replace nan in cleaned dataframe\n",
    "customers_cleaned = replace_nans(customers_cleaned, col_names, col_values, col_replace_values)\n",
    "print(customers_cleaned[col_names].head(10))"
   ]
  },
  {
   "cell_type": "code",
   "execution_count": 214,
   "metadata": {},
   "outputs": [
    {
     "data": {
      "text/plain": [
       "0         1.0\n",
       "1         NaN\n",
       "2         1.0\n",
       "3         1.0\n",
       "4         1.0\n",
       "         ... \n",
       "191647    1.0\n",
       "191648    1.0\n",
       "191649    1.0\n",
       "191650    1.0\n",
       "191651    1.0\n",
       "Name: OST_WEST_KZ, Length: 191652, dtype: float64"
      ]
     },
     "execution_count": 214,
     "metadata": {},
     "output_type": "execute_result"
    }
   ],
   "source": [
    "customers_cleaned.shape"
   ]
  },
  {
   "cell_type": "code",
   "execution_count": 215,
   "metadata": {},
   "outputs": [],
   "source": [
    "customers_cleaned = timeseries_to_year(customers_cleaned)"
   ]
  },
  {
   "cell_type": "code",
   "execution_count": 218,
   "metadata": {},
   "outputs": [],
   "source": [
    "#customers_cleaned = drop_col(customers_cleaned,['CUSTOMER_GROUP', 'ONLINE_PURCHASE', 'PRODUCT_GROUP'])\n"
   ]
  },
  {
   "attachments": {},
   "cell_type": "markdown",
   "metadata": {},
   "source": [
    "### Several Preprocessing steps need to be done\n",
    "\n",
    "We genereate a pipeline for each preprocessing. The approach here used is to split the Pipeline by the column data types.\n",
    "Some data adjustements as well replacements of missing values are needed.\n",
    "\n",
    "#### Continous Variables:\n",
    "   + Impute with median since it is more robust to outliers\n",
    "   + StandardScaler\n",
    "\n",
    "#### Binary:\n",
    "   + Clean\n",
    "   \n",
    "#### Categorical: \n",
    "   + Impute with most frequent since others methods are only for numeric\n",
    "   + One-Hot Encode the variables\n",
    "\n"
   ]
  },
  {
   "cell_type": "code",
   "execution_count": 219,
   "metadata": {},
   "outputs": [
    {
     "ename": "KeyboardInterrupt",
     "evalue": "",
     "output_type": "error",
     "traceback": [
      "\u001b[1;31m---------------------------------------------------------------------------\u001b[0m",
      "\u001b[1;31mKeyboardInterrupt\u001b[0m                         Traceback (most recent call last)",
      "\u001b[1;32m~\\AppData\\Local\\Temp/ipykernel_259872/1536952065.py\u001b[0m in \u001b[0;36m<module>\u001b[1;34m\u001b[0m\n\u001b[0;32m      1\u001b[0m \u001b[1;31m# Get lists of the datatype columns\u001b[0m\u001b[1;33m\u001b[0m\u001b[1;33m\u001b[0m\u001b[0m\n\u001b[0;32m      2\u001b[0m \u001b[0mnumerical_cols\u001b[0m \u001b[1;33m=\u001b[0m \u001b[0mlist\u001b[0m\u001b[1;33m(\u001b[0m\u001b[0mazdias_cleaned\u001b[0m\u001b[1;33m.\u001b[0m\u001b[0mselect_dtypes\u001b[0m\u001b[1;33m(\u001b[0m\u001b[1;33m[\u001b[0m\u001b[1;34m'float64'\u001b[0m\u001b[1;33m,\u001b[0m\u001b[1;34m'int64'\u001b[0m\u001b[1;33m]\u001b[0m\u001b[1;33m)\u001b[0m\u001b[1;33m)\u001b[0m\u001b[1;33m\u001b[0m\u001b[1;33m\u001b[0m\u001b[0m\n\u001b[1;32m----> 3\u001b[1;33m \u001b[0mcategorical_cols\u001b[0m \u001b[1;33m=\u001b[0m \u001b[0mlist\u001b[0m\u001b[1;33m(\u001b[0m\u001b[0mazdias_cleaned\u001b[0m\u001b[1;33m.\u001b[0m\u001b[0mselect_dtypes\u001b[0m\u001b[1;33m(\u001b[0m\u001b[1;33m[\u001b[0m\u001b[1;34m'object'\u001b[0m\u001b[1;33m]\u001b[0m\u001b[1;33m)\u001b[0m\u001b[1;33m)\u001b[0m\u001b[1;33m\u001b[0m\u001b[1;33m\u001b[0m\u001b[0m\n\u001b[0m",
      "\u001b[1;31mKeyboardInterrupt\u001b[0m: "
     ]
    }
   ],
   "source": [
    "# Get lists of the datatype columns\n",
    "numerical_cols = list(azdias_cleaned.select_dtypes(['float64','int64']))\n",
    "categorical_cols = list(azdias_cleaned.select_dtypes(['object']))"
   ]
  },
  {
   "cell_type": "code",
   "execution_count": 94,
   "metadata": {},
   "outputs": [],
   "source": [
    "# Numerical Pipeline \n",
    "num_pipe = Pipeline([\n",
    "    ('num_impute', SimpleImputer(strategy='median')),\n",
    "    ('num_scalar', StandardScaler())\n",
    "])"
   ]
  },
  {
   "attachments": {},
   "cell_type": "markdown",
   "metadata": {},
   "source": [
    "#### Categorical Pipeline"
   ]
  },
  {
   "cell_type": "code",
   "execution_count": 95,
   "metadata": {},
   "outputs": [],
   "source": [
    "# Categorical Pipeline \n",
    "cat_pipe = Pipeline([\n",
    "    ('bin_impute', SimpleImputer(strategy='most_frequent')),\n",
    "    ('one_hot_encoding', OneHotEncoder(handle_unknown='ignore'))\n",
    "])"
   ]
  },
  {
   "attachments": {},
   "cell_type": "markdown",
   "metadata": {},
   "source": [
    "#### Combine pipelines"
   ]
  },
  {
   "cell_type": "code",
   "execution_count": 96,
   "metadata": {},
   "outputs": [],
   "source": [
    "# Preprocessing Pipeline\n",
    "pre_pipe = [\n",
    "    #('bin', binary_pipeline, binary_cols),\n",
    "    ('cat', cat_pipe, categorical_cols),\n",
    "    ('num', num_pipe, numerical_cols)]"
   ]
  },
  {
   "cell_type": "code",
   "execution_count": 97,
   "metadata": {},
   "outputs": [],
   "source": [
    "pre_pipe_columntransformer = ColumnTransformer(transformers = pre_pipe)"
   ]
  },
  {
   "cell_type": "code",
   "execution_count": 98,
   "metadata": {},
   "outputs": [
    {
     "data": {
      "text/html": [
       "<div>\n",
       "<style scoped>\n",
       "    .dataframe tbody tr th:only-of-type {\n",
       "        vertical-align: middle;\n",
       "    }\n",
       "\n",
       "    .dataframe tbody tr th {\n",
       "        vertical-align: top;\n",
       "    }\n",
       "\n",
       "    .dataframe thead th {\n",
       "        text-align: right;\n",
       "    }\n",
       "</style>\n",
       "<table border=\"1\" class=\"dataframe\">\n",
       "  <thead>\n",
       "    <tr style=\"text-align: right;\">\n",
       "      <th></th>\n",
       "      <th>CAMEO_DEU_2015</th>\n",
       "    </tr>\n",
       "  </thead>\n",
       "  <tbody>\n",
       "    <tr>\n",
       "      <th>0</th>\n",
       "      <td>NaN</td>\n",
       "    </tr>\n",
       "    <tr>\n",
       "      <th>1</th>\n",
       "      <td>8A</td>\n",
       "    </tr>\n",
       "    <tr>\n",
       "      <th>2</th>\n",
       "      <td>4C</td>\n",
       "    </tr>\n",
       "    <tr>\n",
       "      <th>3</th>\n",
       "      <td>2A</td>\n",
       "    </tr>\n",
       "    <tr>\n",
       "      <th>4</th>\n",
       "      <td>6B</td>\n",
       "    </tr>\n",
       "    <tr>\n",
       "      <th>...</th>\n",
       "      <td>...</td>\n",
       "    </tr>\n",
       "    <tr>\n",
       "      <th>891216</th>\n",
       "      <td>7A</td>\n",
       "    </tr>\n",
       "    <tr>\n",
       "      <th>891217</th>\n",
       "      <td>9D</td>\n",
       "    </tr>\n",
       "    <tr>\n",
       "      <th>891218</th>\n",
       "      <td>4C</td>\n",
       "    </tr>\n",
       "    <tr>\n",
       "      <th>891219</th>\n",
       "      <td>9D</td>\n",
       "    </tr>\n",
       "    <tr>\n",
       "      <th>891220</th>\n",
       "      <td>6B</td>\n",
       "    </tr>\n",
       "  </tbody>\n",
       "</table>\n",
       "<p>891221 rows × 1 columns</p>\n",
       "</div>"
      ],
      "text/plain": [
       "       CAMEO_DEU_2015\n",
       "0                 NaN\n",
       "1                  8A\n",
       "2                  4C\n",
       "3                  2A\n",
       "4                  6B\n",
       "...               ...\n",
       "891216             7A\n",
       "891217             9D\n",
       "891218             4C\n",
       "891219             9D\n",
       "891220             6B\n",
       "\n",
       "[891221 rows x 1 columns]"
      ]
     },
     "execution_count": 98,
     "metadata": {},
     "output_type": "execute_result"
    }
   ],
   "source": [
    "azdias_cleaned[categorical_cols]"
   ]
  },
  {
   "attachments": {},
   "cell_type": "markdown",
   "metadata": {},
   "source": [
    "#### Run pipelines to transform datasets"
   ]
  },
  {
   "cell_type": "code",
   "execution_count": 149,
   "metadata": {},
   "outputs": [],
   "source": [
    "azdias_transformed = pre_pipe_columntransformer.fit_transform(azdias_cleaned)"
   ]
  },
  {
   "cell_type": "markdown",
   "metadata": {},
   "source": [
    "azdias_transformed = pre_pipe_columntransformer.fit_transform(azdias_cleaned)"
   ]
  },
  {
   "cell_type": "code",
   "execution_count": 150,
   "metadata": {},
   "outputs": [],
   "source": [
    "# Get the column names after the One Hot Encoding\n",
    "dummy_cols = list(pre_pipe_columntransformer.transformers_[0][1]\\\n",
    "   .named_steps['one_hot_encoding'].get_feature_names(categorical_cols))"
   ]
  },
  {
   "cell_type": "code",
   "execution_count": 151,
   "metadata": {},
   "outputs": [],
   "source": [
    "all_cols =  dummy_cols +  numerical_cols"
   ]
  },
  {
   "cell_type": "code",
   "execution_count": 158,
   "metadata": {},
   "outputs": [],
   "source": [
    "# Convert transformation into a new dataframe\n",
    "azdias_transformed_df = pd.DataFrame(azdias_transformed, columns= all_cols)"
   ]
  },
  {
   "cell_type": "code",
   "execution_count": 165,
   "metadata": {},
   "outputs": [
    {
     "data": {
      "text/plain": [
       "float64    392\n",
       "dtype: int64"
      ]
     },
     "execution_count": 165,
     "metadata": {},
     "output_type": "execute_result"
    }
   ],
   "source": [
    "# Check if datatypes are all numeric for further processing\n",
    "azdias_transformed_df.dtypes.value_counts()"
   ]
  },
  {
   "cell_type": "markdown",
   "metadata": {},
   "source": [
    "## Part 1: Customer Segmentation Report\n",
    "\n",
    "The main bulk of your analysis will come in this part of the project. Here, you should use unsupervised learning techniques to describe the relationship between the demographics of the company's existing customers and the general population of Germany. By the end of this part, you should be able to describe parts of the general population that are more likely to be part of the mail-order company's main customer base, and which parts of the general population are less so."
   ]
  },
  {
   "attachments": {},
   "cell_type": "markdown",
   "metadata": {},
   "source": [
    "### Principal Component Analysis\n",
    "As learned in Udacity course with a high dimension data input there a high chanced that the same information is provided\n",
    "in diffrent columns. To reduce complexity for later modelling a PCA is done at first. "
   ]
  },
  {
   "cell_type": "code",
   "execution_count": 167,
   "metadata": {},
   "outputs": [
    {
     "name": "stdout",
     "output_type": "stream",
     "text": [
      "Wall time: 1min\n"
     ]
    }
   ],
   "source": [
    "%%time \n",
    "#  Fit PCA such that 95% of the variance is retained.\n",
    "pca = PCA(.95)\n",
    "azdias_reduced = pca.fit_transform(azdias_transformed_df)\n"
   ]
  },
  {
   "cell_type": "code",
   "execution_count": 169,
   "metadata": {},
   "outputs": [
    {
     "name": "stdout",
     "output_type": "stream",
     "text": [
      "216\n"
     ]
    },
    {
     "data": {
      "image/png": "[encoded data removed]",
      "text/plain": [
       "<Figure size 720x360 with 1 Axes>"
      ]
     },
     "metadata": {
      "needs_background": "light"
     },
     "output_type": "display_data"
    },
    {
     "name": "stdout",
     "output_type": "stream",
     "text": [
      "Wall time: 369 ms\n"
     ]
    }
   ],
   "source": [
    "%%time\n",
    "# Show how many data columns are required to retain the given variance\n",
    "print(pca.n_components_)\n",
    "plt.figure(figsize=(10,5))\n",
    "plt.plot(np.cumsum(pca.explained_variance_ratio_))\n",
    "plt.xlabel('Components Count')\n",
    "plt.ylabel('Explained Variannce (in %)')\n",
    "plt.title('PCA Dimension reduction (Variance goal 95%')\n",
    "plt.show()"
   ]
  },
  {
   "cell_type": "code",
   "execution_count": 174,
   "metadata": {},
   "outputs": [],
   "source": [
    "azdias_reduced_df = pd.DataFrame(azdias_reduced)"
   ]
  },
  {
   "attachments": {},
   "cell_type": "markdown",
   "metadata": {},
   "source": [
    "### Clustering with k-means \n",
    "To cluster unlabeled data this approach is very usefull. To determine the final number of clusters the elbow-method will be used (https://predictivehacks.com/k-means-elbow-method-code-for-python/)."
   ]
  },
  {
   "cell_type": "code",
   "execution_count": 173,
   "metadata": {},
   "outputs": [],
   "source": [
    "distortions = []\n",
    "list_k = list(range(1,15))\n",
    "\n",
    "for k in list_k:\n",
    "    clustering = KMeans(n_clusters = k, init='k-means++')\n",
    "    clustering.fit(azdias_transformed_df.sample(10000))\n",
    "    distortions.append(clustering.inertia_)"
   ]
  },
  {
   "attachments": {},
   "cell_type": "markdown",
   "metadata": {},
   "source": [
    "#### Plot Elbow for KMeans"
   ]
  },
  {
   "cell_type": "code",
   "execution_count": 176,
   "metadata": {},
   "outputs": [
    {
     "data": {
      "image/png": "[encoded data removed]",
      "text/plain": [
       "<Figure size 1152x576 with 1 Axes>"
      ]
     },
     "metadata": {
      "needs_background": "light"
     },
     "output_type": "display_data"
    }
   ],
   "source": [
    "plt.figure(figsize=(16,8))\n",
    "plt.plot(list_k, distortions, 'bx-')\n",
    "plt.xlabel('k')\n",
    "plt.ylabel('Distortion')\n",
    "plt.title('The Elbow Method showing the optimal k')\n",
    "plt.show()"
   ]
  },
  {
   "cell_type": "code",
   "execution_count": 221,
   "metadata": {},
   "outputs": [],
   "source": [
    "#### Transform colums, Reduce PCA, Cluster kMeans Pipleine\n",
    "T_R_C_pipeline = Pipeline([\n",
    "    ('transform', pre_pipe_columntransformer),\n",
    "    ('reduce', pca),\n",
    "    ('cluster', KMeans(n_clusters = 6, init='k-means++'))\n",
    "])\n"
   ]
  },
  {
   "cell_type": "code",
   "execution_count": 222,
   "metadata": {},
   "outputs": [
    {
     "data": {
      "text/plain": [
       "Pipeline(steps=[('transform',\n",
       "                 ColumnTransformer(transformers=[('cat',\n",
       "                                                  Pipeline(steps=[('bin_impute',\n",
       "                                                                   SimpleImputer(strategy='most_frequent')),\n",
       "                                                                  ('one_hot_encoding',\n",
       "                                                                   OneHotEncoder(handle_unknown='ignore'))]),\n",
       "                                                  ['CAMEO_DEU_2015']),\n",
       "                                                 ('num',\n",
       "                                                  Pipeline(steps=[('num_impute',\n",
       "                                                                   SimpleImputer(strategy='median')),\n",
       "                                                                  ('num_scalar',\n",
       "                                                                   StandardScaler())]),\n",
       "                                                  ['LNR', 'AGER_TYP',\n",
       "                                                   'AKT_D...\n",
       "                                                   'CJT_TYP_1', 'CJT_TYP_2',\n",
       "                                                   'CJT_TYP_3', 'CJT_TYP_4',\n",
       "                                                   'CJT_TYP_5', 'CJT_TYP_6',\n",
       "                                                   'D19_BANKEN_ANZ_12',\n",
       "                                                   'D19_BANKEN_ANZ_24',\n",
       "                                                   'D19_BANKEN_DATUM',\n",
       "                                                   'D19_BANKEN_DIREKT',\n",
       "                                                   'D19_BANKEN_GROSS',\n",
       "                                                   'D19_BANKEN_LOKAL',\n",
       "                                                   'D19_BANKEN_OFFLINE_DATUM',\n",
       "                                                   'D19_BANKEN_ONLINE_DATUM',\n",
       "                                                   'D19_BANKEN_REST',\n",
       "                                                   'D19_BEKLEIDUNG_GEH', ...])])),\n",
       "                ('reduce', PCA(n_components=0.95)),\n",
       "                ('cluster', KMeans(n_clusters=6))])"
      ]
     },
     "execution_count": 222,
     "metadata": {},
     "output_type": "execute_result"
    }
   ],
   "source": [
    "# Fit the pipeline on the azdias df\n",
    "T_R_C_pipeline.fit(azdias_cleaned)\n"
   ]
  },
  {
   "cell_type": "code",
   "execution_count": 460,
   "metadata": {},
   "outputs": [],
   "source": [
    "azdias_cluster = pd.DataFrame(T_R_C_pipeline.predict(azdias_cleaned), columns= ['Cluster'])\n",
    "\n",
    "azdias_cleaned['Cluster'] = azdias_cluster"
   ]
  },
  {
   "cell_type": "code",
   "execution_count": 224,
   "metadata": {},
   "outputs": [],
   "source": [
    "# Fit the pipeline on the customer df\n",
    "customers_cluster = pd.DataFrame(T_R_C_pipeline.predict(customers_cleaned), columns= ['Cluster'])"
   ]
  },
  {
   "cell_type": "code",
   "execution_count": 455,
   "metadata": {},
   "outputs": [],
   "source": [
    "print('shape {} before '.format(customers_cleaned.shape)\n",
    "customers_cleaned['Cluster'] = customers_cluster\n",
    "print('shape {} after '.format(customers_cleaned.shape)"
   ]
  },
  {
   "cell_type": "code",
   "execution_count": 461,
   "metadata": {},
   "outputs": [],
   "source": [
    "# Safe results to pickle for later loadings\n",
    "azdias_cluster.to_pickle('.\\data\\\\azdias_cluster.pickle')\n",
    "customers_cluster.to_pickle('.\\data\\\\customer_cluster.pickle')"
   ]
  },
  {
   "attachments": {},
   "cell_type": "markdown",
   "metadata": {},
   "source": [
    "#### Visulize the cluster results"
   ]
  },
  {
   "cell_type": "code",
   "execution_count": 462,
   "metadata": {},
   "outputs": [],
   "source": [
    "# Get all cluster sizes\n",
    "population_clusters = azdias_cleaned['Cluster'].value_counts().sort_index()\n",
    "customer_clusters = customers_cleaned['Cluster'].value_counts().sort_index()"
   ]
  },
  {
   "cell_type": "code",
   "execution_count": 463,
   "metadata": {},
   "outputs": [],
   "source": [
    "# Concat both df to one for viz.\n",
    "df_cluster = pd.concat([population_clusters, customer_clusters], axis=1).reset_index()\n",
    "df_cluster.columns = ['cluster_n', 'population_count', 'customers_count']\n",
    "# df_cluster['cluster']+=1"
   ]
  },
  {
   "cell_type": "code",
   "execution_count": 483,
   "metadata": {},
   "outputs": [],
   "source": [
    "# Calculate share of each cluster\n",
    "df_cluster['population_share'] = df_cluster.population_count / df_cluster.population_count.sum()\n",
    "df_cluster['customers_share'] = df_cluster.customers_count / df_cluster.customers_count.sum()\n",
    "df_cluster['share_diff'] = df_cluster['customers_share'] - df_cluster['population_share']"
   ]
  },
  {
   "cell_type": "code",
   "execution_count": 482,
   "metadata": {},
   "outputs": [
    {
     "data": {
      "image/png": "[encoded data removed]",
      "text/plain": [
       "<Figure size 1152x432 with 1 Axes>"
      ]
     },
     "metadata": {
      "needs_background": "light"
     },
     "output_type": "display_data"
    }
   ],
   "source": [
    "# Plot clusters \n",
    "fig, ax = plt.subplots(figsize=(16,6))\n",
    "\n",
    "ind = np.arange(6)    # the x locations for the groups\n",
    "width = 0.35         # the width of the bars\n",
    "\n",
    "p1 = ax.bar(ind, df_cluster['population_share'], width, bottom=0, color='c' )\n",
    "p2 = ax.bar(ind + width, df_cluster['customers_share'], width, bottom=0, color='g')\n",
    "\n",
    "ax.set_title('Share of clusters in the datasets')\n",
    "ax.set_ylabel('Share of total')\n",
    "ax.set_xlabel('Cluster_n')\n",
    "\n",
    "ax.set_xticks(ind + width / 2)\n",
    "ax.set_xticklabels(df_cluster['cluster_n'])\n",
    "ax.legend((p1[0], p2[0]), ('Population', 'Customers'))\n",
    "ax.autoscale_view()"
   ]
  },
  {
   "cell_type": "code",
   "execution_count": 496,
   "metadata": {},
   "outputs": [
    {
     "data": {
      "image/png": "[encoded data removed]",
      "text/plain": [
       "<Figure size 720x360 with 1 Axes>"
      ]
     },
     "metadata": {
      "needs_background": "light"
     },
     "output_type": "display_data"
    }
   ],
   "source": [
    "# Plot diffrence between cluster and dataframes\n",
    "fig, ax = plt.subplots(figsize=(10,5))\n",
    "\n",
    "ind = np.arange(6)    # the x locations for the groups\n",
    "width = 0.35         # the width of the bars\n",
    "\n",
    "bar_colors = ('grey','green','grey','red','red','grey')\n",
    "\n",
    "p1 = ax.bar(ind, df_cluster['share_diff'], width, color = bar_colors)\n",
    "\n",
    "ax.set_title('Representation of clusters in the Customer dataset vs Population dataset \\n (Overrepresnetation:green and Underrepresentation: red)')\n",
    "\n",
    "ax.set_ylabel('Difference in share (%)')\n",
    "ax.set_xlabel('Cluster_n')\n",
    "ax.axhline(linewidth=.5, color='black')\n",
    "\n",
    "ax.set_xticks(ind)\n",
    "ax.set_xticklabels(df_cluster['cluster_n']);"
   ]
  },
  {
   "cell_type": "markdown",
   "metadata": {},
   "source": [
    "## Part 2: Supervised Learning Model\n",
    "\n",
    "Now that you've found which parts of the population are more likely to be customers of the mail-order company, it's time to build a prediction model. Each of the rows in the \"MAILOUT\" data files represents an individual that was targeted for a mailout campaign. Ideally, we should be able to use the demographic information from each individual to decide whether or not it will be worth it to include that person in the campaign.\n",
    "\n",
    "The \"MAILOUT\" data has been split into two approximately equal parts, each with almost 43 000 data rows. In this part, you can verify your model with the \"TRAIN\" partition, which includes a column, \"RESPONSE\", that states whether or not a person became a customer of the company following the campaign. In the next part, you'll need to create predictions on the \"TEST\" partition, where the \"RESPONSE\" column has been withheld."
   ]
  },
  {
   "cell_type": "code",
   "execution_count": 230,
   "metadata": {},
   "outputs": [
    {
     "name": "stderr",
     "output_type": "stream",
     "text": [
      "c:\\Users\\heuse\\anaconda3\\lib\\site-packages\\IPython\\core\\interactiveshell.py:3444: DtypeWarning: Columns (18,19) have mixed types.Specify dtype option on import or set low_memory=False.\n",
      "  exec(code_obj, self.user_global_ns, self.user_ns)\n"
     ]
    }
   ],
   "source": [
    "mailout_train = pd.read_csv('./data/Udacity_MAILOUT_052018_TRAIN.csv', sep=';')"
   ]
  },
  {
   "cell_type": "code",
   "execution_count": 235,
   "metadata": {},
   "outputs": [
    {
     "data": {
      "text/plain": [
       "{'ALTERSKATEGORIE_FEIN',\n",
       " 'ALTER_KIND1',\n",
       " 'ALTER_KIND2',\n",
       " 'ALTER_KIND3',\n",
       " 'ALTER_KIND4',\n",
       " 'D19_BANKEN_ONLINE_QUOTE_12',\n",
       " 'D19_GESAMT_ONLINE_QUOTE_12',\n",
       " 'D19_KONSUMTYP',\n",
       " 'D19_LETZTER_KAUF_BRANCHE',\n",
       " 'D19_LOTTO',\n",
       " 'D19_SOZIALES',\n",
       " 'D19_TELKO_ONLINE_QUOTE_12',\n",
       " 'D19_VERSAND_ONLINE_QUOTE_12',\n",
       " 'D19_VERSI_ONLINE_QUOTE_12',\n",
       " 'EXTSEL992',\n",
       " 'KK_KUNDENTYP',\n",
       " 'RESPONSE'}"
      ]
     },
     "execution_count": 235,
     "metadata": {},
     "output_type": "execute_result"
    }
   ],
   "source": [
    "set(mailout_train.columns) - set(azdias_cleaned.columns)"
   ]
  },
  {
   "cell_type": "code",
   "execution_count": 242,
   "metadata": {},
   "outputs": [],
   "source": [
    "# Clean and Merge mail train\n",
    "# Clean mail\n",
    "# Drop the same values as in azdias for later analysis.\n",
    "\n",
    "drop_mail_cols  = set(mailout_train.columns) - set(azdias_cleaned.columns)\n",
    "mailout_train_cleaned = mailout_train.drop(drop_mail_cols, axis=1)\n",
    "mailout_train_cleaned['RESPONSE'] = mailout_train['RESPONSE']\n",
    "\n",
    "# The columns are dropped in customer dataset due to to many missing values\n",
    "\n",
    "\n",
    "\n",
    "# Replace nan in cleaned dataframe\n",
    "mailout_train_cleaned = replace_nans(mailout_train_cleaned, col_names, col_values, col_replace_values)"
   ]
  },
  {
   "cell_type": "code",
   "execution_count": 294,
   "metadata": {},
   "outputs": [],
   "source": [
    "mailout_train_cleaned = timeseries_to_year(mailout_train_cleaned)"
   ]
  },
  {
   "cell_type": "code",
   "execution_count": 295,
   "metadata": {},
   "outputs": [
    {
     "data": {
      "text/plain": [
       "(42962, 351)"
      ]
     },
     "execution_count": 295,
     "metadata": {},
     "output_type": "execute_result"
    }
   ],
   "source": [
    "mailout_train_cleaned.shape"
   ]
  },
  {
   "attachments": {},
   "cell_type": "markdown",
   "metadata": {},
   "source": [
    "### Get X and y"
   ]
  },
  {
   "cell_type": "code",
   "execution_count": 296,
   "metadata": {},
   "outputs": [],
   "source": [
    "# Get data matrix X and output array y\n",
    "X = mailout_train_cleaned.drop('RESPONSE', axis=1)\n",
    "y = mailout_train_cleaned['RESPONSE']"
   ]
  },
  {
   "cell_type": "code",
   "execution_count": 334,
   "metadata": {},
   "outputs": [],
   "source": [
    "# Train several models for the RESPONSE column\n",
    "unsupervised_models = {\n",
    "    # 'HistGradientBoostingClassifier' : HistGradientBoostingClassifier(\n",
    "    #         verbose=1,\n",
    "    #         random_state=random_state, \n",
    "    #         warm_start=True),\n",
    "    'GradientBoostingClassifier': GradientBoostingClassifier(verbose=1,\n",
    "         random_state=random_state,\n",
    "         n_estimators = 10,\n",
    "         subsample=0.6,\n",
    "         tol=0.01),\n",
    "    'RandomForestClassifier': RandomForestClassifier(\n",
    "        random_state=random_state,\n",
    "        verbose=1,\n",
    "        max_samples= 0.5,\n",
    "        n_jobs=4,\n",
    "        warm_start=True)\n",
    "#      'XGBClassifier': xgb.XGBClassifier(),\n",
    "    }"
   ]
  },
  {
   "cell_type": "code",
   "execution_count": 335,
   "metadata": {},
   "outputs": [
    {
     "name": "stdout",
     "output_type": "stream",
     "text": [
      "Name is:    GradientBoostingClassifier\n",
      "Object is:  GradientBoostingClassifier(n_estimators=10, random_state=42, subsample=0.6,\n",
      "                           tol=0.01, verbose=1)\n",
      "Name is:    RandomForestClassifier\n",
      "Object is:  RandomForestClassifier(max_samples=0.5, n_jobs=4, random_state=42, verbose=1,\n",
      "                       warm_start=True)\n"
     ]
    }
   ],
   "source": [
    "for m_key, m_value in unsupervised_models.items():\n",
    "    print('Name is:    {}\\nObject is:  {}'.format(m_key, m_value ))"
   ]
  },
  {
   "cell_type": "code",
   "execution_count": 336,
   "metadata": {},
   "outputs": [
    {
     "name": "stdout",
     "output_type": "stream",
     "text": [
      "GradientBoostingClassifier\n",
      "      Iter       Train Loss      OOB Improve   Remaining Time \n",
      "         1           0.0997          -0.0194            0.77s\n",
      "         2           0.0906          -0.0012            0.68s\n",
      "         3           0.1104          -0.0074            0.61s\n",
      "         4           0.1070          -0.0028            0.54s\n",
      "         5           0.0796          -0.0004            0.43s\n",
      "         6           0.0756          -0.0036            0.34s\n",
      "         7           0.0935           0.0001            0.25s\n",
      "         8           0.0850           0.0003            0.16s\n",
      "         9           0.0807          -0.0137            0.08s\n",
      "        10           0.0728           0.0001            0.00s\n",
      "      Iter       Train Loss      OOB Improve   Remaining Time \n",
      "         1           0.1110           0.0001            1.58s\n",
      "         2           0.1079          -0.0126            1.39s\n",
      "         3           0.1093          -0.0011            1.18s\n",
      "         4           0.1102           0.0006            0.91s\n",
      "         5           0.1198          -0.0110            0.75s\n",
      "         6           0.1197          -0.0015            0.60s\n",
      "         7           0.1181           0.0011            0.44s\n",
      "         8           0.1207           0.0001            0.29s\n",
      "         9           0.1014           0.0015            0.14s\n",
      "        10           0.1118          -0.0002            0.00s\n",
      "      Iter       Train Loss      OOB Improve   Remaining Time \n",
      "         1           0.1075          -0.0089            1.89s\n",
      "         2           0.1158          -0.0022            1.57s\n",
      "         3           0.1254           0.0005            1.36s\n",
      "         4           0.1022          -0.0070            1.11s\n",
      "         5           0.1003          -0.0022            0.90s\n",
      "         6           0.1351          -0.0015            0.71s\n",
      "         7           0.1077          -0.0019            0.53s\n",
      "         8           0.1134          -0.0001            0.36s\n",
      "         9           0.1187           0.0003            0.18s\n",
      "        10           0.0894          -0.0003            0.00s\n",
      "      Iter       Train Loss      OOB Improve   Remaining Time \n",
      "         1           0.1025           0.0001            2.51s\n",
      "         2           0.1142           0.0002            1.99s\n",
      "         3           0.1184          -0.0026            1.64s\n",
      "         4           0.1041           0.0005            1.38s\n",
      "         5           0.1260          -0.0004            1.16s\n",
      "         6           0.0971          -0.0018            0.98s\n",
      "         7           0.1056          -0.0001            0.80s\n",
      "         8           0.0951          -0.0042            0.53s\n",
      "         9           0.1031          -0.0006            0.26s\n",
      "        10           0.1010           0.0001            0.00s\n",
      "      Iter       Train Loss      OOB Improve   Remaining Time \n",
      "         1           0.1122          -0.0037            4.82s\n",
      "         2           0.1214           0.0005            3.70s\n",
      "         3           0.1216          -0.0022            3.02s\n",
      "         4           0.1065          -0.0002            2.44s\n",
      "         5           0.1121           0.0009            1.91s\n",
      "         6           0.1113           0.0004            1.48s\n",
      "         7           0.1308          -0.0001            1.10s\n",
      "         8           0.1278          -0.0003            0.72s\n",
      "         9           0.1192          -0.0002            0.36s\n",
      "        10           0.1147          -0.0015            0.00s\n",
      "      Iter       Train Loss      OOB Improve   Remaining Time \n",
      "         1           0.1225          -0.0005            4.15s\n",
      "         2           0.1315           0.0002            3.32s\n",
      "         3           0.1277           0.0006            2.88s\n",
      "         4           0.1218          -0.0010            2.42s\n",
      "         5           0.1218          -0.0001            2.18s\n",
      "         6           0.1217          -0.0001            1.75s\n",
      "         7           0.1177          -0.0001            1.30s\n",
      "         8           0.1280          -0.0000            0.87s\n",
      "         9           0.1236          -0.0002            0.43s\n",
      "        10           0.1263          -0.0029            0.00s\n",
      "      Iter       Train Loss      OOB Improve   Remaining Time \n",
      "         1           0.1257          -0.0014            4.21s\n",
      "         2           0.1319           0.0008            3.78s\n",
      "         3           0.1325          -0.0078            3.24s\n",
      "         4           0.1300           0.0004            2.80s\n",
      "         5           0.1302           0.0006            2.38s\n",
      "         6           0.1217           0.0003            2.01s\n",
      "         7           0.1255           0.0004            1.52s\n",
      "         8           0.1279           0.0004            1.00s\n",
      "         9           0.1268          -0.0017            0.49s\n",
      "        10           0.1246          -0.0625            0.00s\n",
      "      Iter       Train Loss      OOB Improve   Remaining Time \n",
      "         1           0.1242           0.0005            6.48s\n",
      "         2           0.1215           0.0006            6.43s\n",
      "         3           0.1222          -0.0004            6.61s\n",
      "         4           0.1368          -0.0000            5.57s\n",
      "         5           0.1259           0.0006            4.52s\n",
      "         6           0.1278          -0.0001            3.53s\n",
      "         7           0.1236          -0.0012            2.53s\n",
      "         8           0.1287          -0.0007            1.64s\n",
      "         9           0.1213          -0.0016            0.81s\n",
      "        10           0.1200          -0.0002            0.00s\n",
      "      Iter       Train Loss      OOB Improve   Remaining Time \n",
      "         1           0.1232           0.0012            7.23s\n",
      "         2           0.1332          -0.0000            5.92s\n",
      "         3           0.1210           0.0006            5.12s\n",
      "         4           0.1197           0.0007            4.17s\n",
      "         5           0.1250           0.0004            3.26s\n",
      "         6           0.1245          -0.0016            2.54s\n",
      "         7           0.1227          -0.0044            1.89s\n",
      "         8           0.1164           0.0010            1.24s\n",
      "         9           0.1246           0.0001            0.61s\n",
      "        10           0.1242           0.0002            0.00s\n",
      "      Iter       Train Loss      OOB Improve   Remaining Time \n",
      "         1           0.1233           0.0013            5.65s\n",
      "         2           0.1249           0.0004            4.92s\n",
      "         3           0.1173           0.0000            4.65s\n",
      "         4           0.1219           0.0007            4.34s\n",
      "         5           0.1223           0.0004            3.65s\n",
      "         6           0.1173          -0.0004            2.87s\n",
      "         7           0.1220           0.0001            2.11s\n",
      "         8           0.1209           0.0002            1.38s\n",
      "         9           0.1244           0.0001            0.68s\n",
      "        10           0.1169          -0.0012            0.00s\n",
      "      Iter       Train Loss      OOB Improve   Remaining Time \n",
      "         1           0.1441           0.0003            0.43s\n",
      "         2           0.1336          -0.0106            0.40s\n",
      "         3           0.1388          -0.0014            0.36s\n",
      "         4           0.1547          -0.0004            0.32s\n",
      "         5           0.1483          -0.0007            0.27s\n",
      "         6           0.1247          -0.0004            0.21s\n",
      "         7           0.0884          -0.0008            0.15s\n",
      "         8           0.1254          -0.0002            0.10s\n",
      "         9           0.1108           0.0008            0.05s\n",
      "        10           0.0978          -0.0002            0.00s\n",
      "      Iter       Train Loss      OOB Improve   Remaining Time \n",
      "         1           0.1498           0.0001            0.97s\n",
      "         2           0.1294          -0.0008            0.96s\n",
      "         3           0.1380          -0.0002            0.87s\n",
      "         4           0.1300           0.0024            0.75s\n",
      "         5           0.1350          -0.0119            0.61s\n",
      "         6           0.1242          -0.0014            0.47s\n",
      "         7           0.1175          -0.0014            0.35s\n",
      "         8           0.1152          -0.0013            0.23s\n",
      "         9           0.1071          -0.0017            0.12s\n",
      "        10           0.1135          -0.0038            0.00s\n",
      "      Iter       Train Loss      OOB Improve   Remaining Time \n",
      "         1           0.1394          -0.0023            1.52s\n",
      "         2           0.1509           0.0005            1.47s\n",
      "         3           0.1407           0.0006            1.41s\n",
      "         4           0.1232          -0.0006            1.28s\n",
      "         5           0.1305           0.0001            1.08s\n",
      "         6           0.1402          -0.0006            0.85s\n",
      "         7           0.1408           0.0007            0.63s\n",
      "         8           0.1415           0.0000            0.42s\n",
      "         9           0.1458           0.0000            0.20s\n",
      "        10           0.1274          -0.0033            0.00s\n",
      "      Iter       Train Loss      OOB Improve   Remaining Time \n",
      "         1           0.1363           0.0003            2.76s\n",
      "         2           0.1428          -0.0025            2.78s\n",
      "         3           0.1449           0.0002            2.64s\n",
      "         4           0.1406           0.0010            2.26s\n",
      "         5           0.1342           0.0007            1.80s\n",
      "         6           0.1454          -0.0030            1.41s\n",
      "         7           0.1310          -0.0000            1.01s\n",
      "         8           0.1327           0.0000            0.65s\n",
      "         9           0.1503          -0.0005            0.32s\n",
      "        10           0.1271          -0.0002            0.00s\n",
      "      Iter       Train Loss      OOB Improve   Remaining Time \n",
      "         1           0.1398           0.0015            4.03s\n",
      "         2           0.1279           0.0003            4.25s\n",
      "         3           0.1366          -0.0015            4.10s\n",
      "         4           0.1318          -0.0001            3.45s\n",
      "         5           0.1305          -0.0011            2.98s\n",
      "         6           0.1233          -0.0002            2.36s\n",
      "         7           0.1352          -0.0004            1.70s\n",
      "         8           0.1377           0.0012            1.14s\n",
      "         9           0.1319           0.0000            0.57s\n",
      "        10           0.1289          -0.0004            0.00s\n",
      "      Iter       Train Loss      OOB Improve   Remaining Time \n",
      "         1           0.1345           0.0007            4.18s\n",
      "         2           0.1374          -0.0011            3.29s\n",
      "         3           0.1302           0.0003            2.73s\n",
      "         4           0.1274           0.0002            2.38s\n",
      "         5           0.1358           0.0006            2.07s\n",
      "         6           0.1312          -0.0007            1.65s\n",
      "         7           0.1259          -0.0000            1.25s\n",
      "         8           0.1210          -0.0002            0.84s\n",
      "         9           0.1292          -0.0006            0.42s\n",
      "        10           0.1243          -0.0004            0.00s\n",
      "      Iter       Train Loss      OOB Improve   Remaining Time \n",
      "         1           0.1387           0.0004            4.04s\n",
      "         2           0.1413           0.0010            3.78s\n",
      "         3           0.1380          -0.0029            3.29s\n",
      "         4           0.1301           0.0004            3.30s\n",
      "         5           0.1353           0.0013            3.10s\n",
      "         6           0.1285           0.0004            2.66s\n",
      "         7           0.1224           0.0001            1.95s\n",
      "         8           0.1280          -0.0053            1.27s\n",
      "         9           0.1373           0.0001            0.62s\n",
      "        10           0.1255           0.0002            0.00s\n",
      "      Iter       Train Loss      OOB Improve   Remaining Time \n",
      "         1           0.1356          -0.0005            5.24s\n",
      "         2           0.1382           0.0009            4.37s\n",
      "         3           0.1322           0.0008            3.90s\n",
      "         4           0.1303           0.0005            3.56s\n",
      "         5           0.1345           0.0002            2.99s\n",
      "         6           0.1313           0.0005            2.59s\n",
      "         7           0.1306           0.0002            2.00s\n",
      "         8           0.1263          -0.0001            1.41s\n",
      "         9           0.1288           0.0001            0.69s\n",
      "        10           0.1315          -0.0001            0.00s\n",
      "      Iter       Train Loss      OOB Improve   Remaining Time \n",
      "         1           0.1315           0.0005            6.88s\n",
      "         2           0.1266           0.0007            5.59s\n",
      "         3           0.1373           0.0004            4.93s\n",
      "         4           0.1346           0.0004            4.33s\n",
      "         5           0.1254          -0.0019            3.65s\n",
      "         6           0.1320          -0.0030            2.86s\n",
      "         7           0.1228           0.0000            2.08s\n",
      "         8           0.1301           0.0001            1.37s\n",
      "         9           0.1268           0.0000            0.66s\n",
      "        10           0.1212           0.0001            0.00s\n",
      "      Iter       Train Loss      OOB Improve   Remaining Time \n",
      "         1           0.1327          -0.0004            7.26s\n",
      "         2           0.1372           0.0011            6.95s\n",
      "         3           0.1320           0.0001            6.02s\n",
      "         4           0.1318          -0.0005            4.88s\n",
      "         5           0.1260           0.0001            3.90s\n",
      "         6           0.1325          -0.0025            3.02s\n",
      "         7           0.1293          -0.0002            2.23s\n",
      "         8           0.1271          -0.0001            1.44s\n",
      "         9           0.1256          -0.0001            0.73s\n",
      "        10           0.1235           0.0002            0.00s\n",
      "      Iter       Train Loss      OOB Improve   Remaining Time \n",
      "         1           0.1036          -0.0075            0.61s\n",
      "         2           0.0893          -0.0534            0.47s\n",
      "         3           0.0909          -0.0056            0.43s\n",
      "         4           0.1062           0.0007            0.37s\n",
      "         5           0.0853          -0.0011            0.32s\n",
      "         6           0.0985          -0.0130            0.24s\n",
      "         7           0.0809          -0.0003            0.19s\n",
      "         8           0.0875          -0.0001            0.13s\n",
      "         9           0.0802           0.0000            0.06s\n",
      "        10           0.0800          -0.0074            0.00s\n",
      "      Iter       Train Loss      OOB Improve   Remaining Time \n",
      "         1           0.0903          -0.0130            0.92s\n",
      "         2           0.0967          -0.0504            0.89s\n",
      "         3           0.0921 -3503042977.0277            0.78s\n",
      "         4  2336494830.7254          -0.0005            0.71s\n",
      "         5           0.0789           0.0004            0.60s\n",
      "         6           0.0803          -0.0007            0.48s\n",
      "         7  2336494830.7124          -0.0183            0.35s\n",
      "         8           0.0925           0.0000            0.23s\n",
      "         9           0.0745          -0.0016            0.12s\n",
      "        10  2336494830.7190          -0.0000            0.00s\n",
      "      Iter       Train Loss      OOB Improve   Remaining Time \n",
      "         1           0.1132          -0.0006            1.89s\n",
      "         2           0.1125          -0.0008            1.80s\n",
      "         3           0.1338          -0.0086            1.59s\n",
      "         4           0.1227          -0.0023            1.31s\n",
      "         5           0.1236          -0.0045            1.08s\n",
      "         6           0.1139           0.0002            0.85s\n",
      "         7           0.1321          -0.0002            0.67s\n",
      "         8           0.1232          -0.0027            0.44s\n",
      "         9           0.1095           0.0001            0.22s\n",
      "        10           0.1157           0.0000            0.00s\n",
      "      Iter       Train Loss      OOB Improve   Remaining Time \n",
      "         1           0.1226           0.0000            2.59s\n",
      "         2           0.1122           0.0012            2.43s\n",
      "         3           0.1223           0.0006            2.19s\n",
      "         4           0.1181          -0.0082            1.91s\n",
      "         5           0.1055           0.0002            1.60s\n",
      "         6           0.1090          -0.0001            1.27s\n",
      "         7           0.1178          -0.0002            0.99s\n",
      "         8           0.1186           0.0001            0.68s\n",
      "         9           0.1144           0.0002            0.35s\n",
      "        10           0.1204           0.0000            0.00s\n",
      "      Iter       Train Loss      OOB Improve   Remaining Time \n",
      "         1           0.1314           0.0009            2.86s\n",
      "         2           0.1293          -0.0018            2.41s\n",
      "         3           0.1261          -0.0001            2.19s\n",
      "         4           0.1312          -0.0025            1.87s\n",
      "         5           0.1241           0.0004            1.57s\n",
      "         6           0.1294           0.0002            1.22s\n",
      "         7           0.1157           0.0000            0.90s\n",
      "         8           0.1248          -0.0006            0.60s\n",
      "         9           0.1212          -0.0003            0.30s\n",
      "        10           0.1241          -0.0008            0.00s\n",
      "      Iter       Train Loss      OOB Improve   Remaining Time \n",
      "         1           0.1268           0.0002            3.67s\n",
      "         2           0.1296          -0.0011            3.14s\n",
      "         3           0.1278           0.0003            2.62s\n",
      "         4           0.1169          -0.0000            2.16s\n",
      "         5           0.1252           0.0010            1.81s\n",
      "         6           0.1174          -0.0002            1.50s\n",
      "         7           0.1210           0.0003            1.14s\n",
      "         8           0.1111          -0.0004            0.77s\n",
      "         9           0.1088          -0.0001            0.40s\n",
      "        10           0.1182           0.0006            0.00s\n",
      "      Iter       Train Loss      OOB Improve   Remaining Time \n",
      "         1           0.1319           0.0008            4.68s\n",
      "         2           0.1311          -0.0003            4.14s\n",
      "         3           0.1268           0.0004            3.61s\n",
      "         4           0.1232          -0.0016            3.15s\n",
      "         5           0.1303           0.0001            2.75s\n",
      "         6           0.1236          -0.0002            2.28s\n",
      "         7           0.1347           0.0001            1.69s\n",
      "         8           0.1219           0.0000            1.08s\n",
      "         9           0.1273           0.0002            0.53s\n",
      "        10           0.1178          -0.0001            0.00s\n",
      "      Iter       Train Loss      OOB Improve   Remaining Time \n",
      "         1           0.1326           0.0009            4.88s\n",
      "         2           0.1329           0.0002            4.22s\n",
      "         3           0.1203          -0.0015            4.90s\n",
      "         4           0.1181           0.0002            4.30s\n",
      "         5           0.1205          -0.0004            3.72s\n",
      "         6           0.1270          -0.0037            3.00s\n",
      "         7           0.1159           0.0002            2.23s\n",
      "         8           0.1249           0.0002            1.46s\n",
      "         9           0.1146           0.0007            0.71s\n",
      "        10           0.1277          -0.0005            0.00s\n",
      "      Iter       Train Loss      OOB Improve   Remaining Time \n",
      "         1           0.1320           0.0004            8.44s\n",
      "         2           0.1230           0.0008            6.05s\n",
      "         3           0.1224           0.0005            4.95s\n",
      "         4           0.1264           0.0007            4.00s\n",
      "         5           0.1323           0.0004            3.32s\n",
      "         6           0.1308           0.0001            2.65s\n",
      "         7           0.1285           0.0001            1.97s\n",
      "         8           0.1220          -0.0001            1.29s\n",
      "         9           0.1250           0.0002            0.63s\n",
      "        10           0.1231           0.0001            0.00s\n",
      "      Iter       Train Loss      OOB Improve   Remaining Time \n",
      "         1           0.1322           0.0010            6.92s\n",
      "         2           0.1230           0.0001            6.33s\n",
      "         3           0.1258           0.0008            5.44s\n",
      "         4           0.1349           0.0005            4.61s\n",
      "         5           0.1225           0.0003            3.64s\n",
      "         6           0.1261           0.0002            2.82s\n",
      "         7           0.1378           0.0001            2.05s\n",
      "         8           0.1178          -0.0017            1.34s\n",
      "         9           0.1186           0.0000            0.66s\n",
      "        10           0.1246           0.0001            0.00s\n",
      "AUC train score = 0.75\n",
      "AUC validation score = 0.7\n",
      "\n"
     ]
    },
    {
     "data": {
      "image/png": "[encoded data removed]",
      "text/plain": [
       "<Figure size 432x288 with 1 Axes>"
      ]
     },
     "metadata": {
      "needs_background": "light"
     },
     "output_type": "display_data"
    },
    {
     "name": "stdout",
     "output_type": "stream",
     "text": [
      "RandomForestClassifier\n"
     ]
    },
    {
     "name": "stderr",
     "output_type": "stream",
     "text": [
      "[Parallel(n_jobs=4)]: Using backend LokyBackend with 4 concurrent workers.\n",
      "c:\\Users\\heuse\\anaconda3\\lib\\site-packages\\sklearn\\base.py:310: UserWarning: Trying to unpickle estimator DecisionTreeClassifier from version 1.2.0 when using version 0.24.2. This might lead to breaking code or invalid results. Use at your own risk.\n",
      "  if hasattr(base_class, \"_more_tags\"):\n",
      "[Parallel(n_jobs=4)]: Done  56 tasks      | elapsed:    3.2s\n",
      "[Parallel(n_jobs=4)]: Done 100 out of 100 | elapsed:    3.4s finished\n",
      "[Parallel(n_jobs=4)]: Using backend ThreadingBackend with 4 concurrent workers.\n",
      "[Parallel(n_jobs=4)]: Done  42 tasks      | elapsed:    0.0s\n",
      "[Parallel(n_jobs=4)]: Done 100 out of 100 | elapsed:    0.0s finished\n",
      "[Parallel(n_jobs=4)]: Using backend ThreadingBackend with 4 concurrent workers.\n",
      "[Parallel(n_jobs=4)]: Done  42 tasks      | elapsed:    0.0s\n",
      "[Parallel(n_jobs=4)]: Done 100 out of 100 | elapsed:    0.0s finished\n",
      "[Parallel(n_jobs=4)]: Using backend LokyBackend with 4 concurrent workers.\n",
      "c:\\Users\\heuse\\anaconda3\\lib\\site-packages\\sklearn\\base.py:310: UserWarning: Trying to unpickle estimator DecisionTreeClassifier from version 1.2.0 when using version 0.24.2. This might lead to breaking code or invalid results. Use at your own risk.\n",
      "  if hasattr(base_class, \"_more_tags\"):\n",
      "[Parallel(n_jobs=4)]: Done 100 out of 100 | elapsed:    1.7s finished\n",
      "[Parallel(n_jobs=4)]: Using backend ThreadingBackend with 4 concurrent workers.\n",
      "[Parallel(n_jobs=4)]: Done  42 tasks      | elapsed:    0.0s\n",
      "[Parallel(n_jobs=4)]: Done 100 out of 100 | elapsed:    0.0s finished\n",
      "[Parallel(n_jobs=4)]: Using backend ThreadingBackend with 4 concurrent workers.\n",
      "[Parallel(n_jobs=4)]: Done  42 tasks      | elapsed:    0.0s\n",
      "[Parallel(n_jobs=4)]: Done 100 out of 100 | elapsed:    0.0s finished\n",
      "[Parallel(n_jobs=4)]: Using backend LokyBackend with 4 concurrent workers.\n",
      "c:\\Users\\heuse\\anaconda3\\lib\\site-packages\\sklearn\\base.py:310: UserWarning: Trying to unpickle estimator DecisionTreeClassifier from version 1.2.0 when using version 0.24.2. This might lead to breaking code or invalid results. Use at your own risk.\n",
      "  if hasattr(base_class, \"_more_tags\"):\n",
      "[Parallel(n_jobs=4)]: Done  76 tasks      | elapsed:    1.7s\n",
      "[Parallel(n_jobs=4)]: Done  93 out of 100 | elapsed:    2.3s remaining:    0.1s\n",
      "[Parallel(n_jobs=4)]: Done 100 out of 100 | elapsed:    2.4s finished\n",
      "[Parallel(n_jobs=4)]: Using backend ThreadingBackend with 4 concurrent workers.\n",
      "[Parallel(n_jobs=4)]: Done  42 tasks      | elapsed:    0.0s\n",
      "[Parallel(n_jobs=4)]: Done 100 out of 100 | elapsed:    0.0s finished\n",
      "[Parallel(n_jobs=4)]: Using backend ThreadingBackend with 4 concurrent workers.\n",
      "[Parallel(n_jobs=4)]: Done  42 tasks      | elapsed:    0.0s\n",
      "[Parallel(n_jobs=4)]: Done 100 out of 100 | elapsed:    0.0s finished\n",
      "[Parallel(n_jobs=4)]: Using backend LokyBackend with 4 concurrent workers.\n",
      "c:\\Users\\heuse\\anaconda3\\lib\\site-packages\\sklearn\\base.py:310: UserWarning: Trying to unpickle estimator DecisionTreeClassifier from version 1.2.0 when using version 0.24.2. This might lead to breaking code or invalid results. Use at your own risk.\n",
      "  if hasattr(base_class, \"_more_tags\"):\n",
      "[Parallel(n_jobs=4)]: Done  76 tasks      | elapsed:    2.6s\n",
      "[Parallel(n_jobs=4)]: Done 100 out of 100 | elapsed:    3.6s finished\n",
      "[Parallel(n_jobs=4)]: Using backend ThreadingBackend with 4 concurrent workers.\n",
      "[Parallel(n_jobs=4)]: Done  42 tasks      | elapsed:    0.0s\n",
      "[Parallel(n_jobs=4)]: Done 100 out of 100 | elapsed:    0.0s finished\n",
      "[Parallel(n_jobs=4)]: Using backend ThreadingBackend with 4 concurrent workers.\n",
      "[Parallel(n_jobs=4)]: Done  42 tasks      | elapsed:    0.0s\n",
      "[Parallel(n_jobs=4)]: Done 100 out of 100 | elapsed:    0.1s finished\n",
      "[Parallel(n_jobs=4)]: Using backend LokyBackend with 4 concurrent workers.\n",
      "c:\\Users\\heuse\\anaconda3\\lib\\site-packages\\sklearn\\base.py:310: UserWarning: Trying to unpickle estimator DecisionTreeClassifier from version 1.2.0 when using version 0.24.2. This might lead to breaking code or invalid results. Use at your own risk.\n",
      "  if hasattr(base_class, \"_more_tags\"):\n",
      "[Parallel(n_jobs=4)]: Done  42 tasks      | elapsed:    3.4s\n",
      "[Parallel(n_jobs=4)]: Done 100 out of 100 | elapsed:    8.9s finished\n",
      "[Parallel(n_jobs=4)]: Using backend ThreadingBackend with 4 concurrent workers.\n",
      "[Parallel(n_jobs=4)]: Done  42 tasks      | elapsed:    0.0s\n",
      "[Parallel(n_jobs=4)]: Done 100 out of 100 | elapsed:    0.1s finished\n",
      "[Parallel(n_jobs=4)]: Using backend ThreadingBackend with 4 concurrent workers.\n",
      "[Parallel(n_jobs=4)]: Done  42 tasks      | elapsed:    0.0s\n",
      "[Parallel(n_jobs=4)]: Done 100 out of 100 | elapsed:    0.2s finished\n",
      "[Parallel(n_jobs=4)]: Using backend LokyBackend with 4 concurrent workers.\n",
      "c:\\Users\\heuse\\anaconda3\\lib\\site-packages\\sklearn\\base.py:310: UserWarning: Trying to unpickle estimator DecisionTreeClassifier from version 1.2.0 when using version 0.24.2. This might lead to breaking code or invalid results. Use at your own risk.\n",
      "  if hasattr(base_class, \"_more_tags\"):\n",
      "[Parallel(n_jobs=4)]: Done  42 tasks      | elapsed:    4.3s\n",
      "[Parallel(n_jobs=4)]: Done 100 out of 100 | elapsed:   10.1s finished\n",
      "[Parallel(n_jobs=4)]: Using backend ThreadingBackend with 4 concurrent workers.\n",
      "[Parallel(n_jobs=4)]: Done  42 tasks      | elapsed:    0.0s\n",
      "[Parallel(n_jobs=4)]: Done 100 out of 100 | elapsed:    0.1s finished\n",
      "[Parallel(n_jobs=4)]: Using backend ThreadingBackend with 4 concurrent workers.\n",
      "[Parallel(n_jobs=4)]: Done  42 tasks      | elapsed:    0.0s\n",
      "[Parallel(n_jobs=4)]: Done 100 out of 100 | elapsed:    0.2s finished\n",
      "[Parallel(n_jobs=4)]: Using backend LokyBackend with 4 concurrent workers.\n",
      "c:\\Users\\heuse\\anaconda3\\lib\\site-packages\\sklearn\\base.py:310: UserWarning: Trying to unpickle estimator DecisionTreeClassifier from version 1.2.0 when using version 0.24.2. This might lead to breaking code or invalid results. Use at your own risk.\n",
      "  if hasattr(base_class, \"_more_tags\"):\n",
      "[Parallel(n_jobs=4)]: Done  42 tasks      | elapsed:    4.4s\n",
      "[Parallel(n_jobs=4)]: Done 100 out of 100 | elapsed:   10.5s finished\n",
      "[Parallel(n_jobs=4)]: Using backend ThreadingBackend with 4 concurrent workers.\n",
      "[Parallel(n_jobs=4)]: Done  42 tasks      | elapsed:    0.0s\n",
      "[Parallel(n_jobs=4)]: Done 100 out of 100 | elapsed:    0.1s finished\n",
      "[Parallel(n_jobs=4)]: Using backend ThreadingBackend with 4 concurrent workers.\n",
      "[Parallel(n_jobs=4)]: Done  42 tasks      | elapsed:    0.0s\n",
      "[Parallel(n_jobs=4)]: Done 100 out of 100 | elapsed:    0.2s finished\n",
      "[Parallel(n_jobs=4)]: Using backend LokyBackend with 4 concurrent workers.\n",
      "c:\\Users\\heuse\\anaconda3\\lib\\site-packages\\sklearn\\base.py:310: UserWarning: Trying to unpickle estimator DecisionTreeClassifier from version 1.2.0 when using version 0.24.2. This might lead to breaking code or invalid results. Use at your own risk.\n",
      "  if hasattr(base_class, \"_more_tags\"):\n",
      "[Parallel(n_jobs=4)]: Done  42 tasks      | elapsed:    5.0s\n",
      "[Parallel(n_jobs=4)]: Done 100 out of 100 | elapsed:   11.4s finished\n",
      "[Parallel(n_jobs=4)]: Using backend ThreadingBackend with 4 concurrent workers.\n",
      "[Parallel(n_jobs=4)]: Done  42 tasks      | elapsed:    0.0s\n",
      "[Parallel(n_jobs=4)]: Done 100 out of 100 | elapsed:    0.0s finished\n",
      "[Parallel(n_jobs=4)]: Using backend ThreadingBackend with 4 concurrent workers.\n",
      "[Parallel(n_jobs=4)]: Done  42 tasks      | elapsed:    0.1s\n",
      "[Parallel(n_jobs=4)]: Done 100 out of 100 | elapsed:    0.5s finished\n",
      "[Parallel(n_jobs=4)]: Using backend LokyBackend with 4 concurrent workers.\n",
      "c:\\Users\\heuse\\anaconda3\\lib\\site-packages\\sklearn\\base.py:310: UserWarning: Trying to unpickle estimator DecisionTreeClassifier from version 1.2.0 when using version 0.24.2. This might lead to breaking code or invalid results. Use at your own risk.\n",
      "  if hasattr(base_class, \"_more_tags\"):\n",
      "[Parallel(n_jobs=4)]: Done  42 tasks      | elapsed:    5.7s\n",
      "[Parallel(n_jobs=4)]: Done 100 out of 100 | elapsed:   13.0s finished\n",
      "[Parallel(n_jobs=4)]: Using backend ThreadingBackend with 4 concurrent workers.\n",
      "[Parallel(n_jobs=4)]: Done  42 tasks      | elapsed:    0.0s\n",
      "[Parallel(n_jobs=4)]: Done 100 out of 100 | elapsed:    0.0s finished\n",
      "[Parallel(n_jobs=4)]: Using backend ThreadingBackend with 4 concurrent workers.\n",
      "[Parallel(n_jobs=4)]: Done  42 tasks      | elapsed:    0.0s\n",
      "[Parallel(n_jobs=4)]: Done 100 out of 100 | elapsed:    0.2s finished\n",
      "[Parallel(n_jobs=4)]: Using backend LokyBackend with 4 concurrent workers.\n",
      "c:\\Users\\heuse\\anaconda3\\lib\\site-packages\\sklearn\\base.py:310: UserWarning: Trying to unpickle estimator DecisionTreeClassifier from version 1.2.0 when using version 0.24.2. This might lead to breaking code or invalid results. Use at your own risk.\n",
      "  if hasattr(base_class, \"_more_tags\"):\n",
      "[Parallel(n_jobs=4)]: Done  42 tasks      | elapsed:    5.9s\n",
      "[Parallel(n_jobs=4)]: Done 100 out of 100 | elapsed:   14.4s finished\n",
      "[Parallel(n_jobs=4)]: Using backend ThreadingBackend with 4 concurrent workers.\n",
      "[Parallel(n_jobs=4)]: Done  42 tasks      | elapsed:    0.0s\n",
      "[Parallel(n_jobs=4)]: Done 100 out of 100 | elapsed:    0.0s finished\n",
      "[Parallel(n_jobs=4)]: Using backend ThreadingBackend with 4 concurrent workers.\n",
      "[Parallel(n_jobs=4)]: Done  42 tasks      | elapsed:    0.1s\n",
      "[Parallel(n_jobs=4)]: Done 100 out of 100 | elapsed:    0.4s finished\n",
      "[Parallel(n_jobs=4)]: Using backend LokyBackend with 4 concurrent workers.\n",
      "c:\\Users\\heuse\\anaconda3\\lib\\site-packages\\sklearn\\base.py:310: UserWarning: Trying to unpickle estimator DecisionTreeClassifier from version 1.2.0 when using version 0.24.2. This might lead to breaking code or invalid results. Use at your own risk.\n",
      "  if hasattr(base_class, \"_more_tags\"):\n",
      "[Parallel(n_jobs=4)]: Done 100 out of 100 | elapsed:    0.7s finished\n",
      "[Parallel(n_jobs=4)]: Using backend ThreadingBackend with 4 concurrent workers.\n",
      "[Parallel(n_jobs=4)]: Done  42 tasks      | elapsed:    0.0s\n",
      "[Parallel(n_jobs=4)]: Done 100 out of 100 | elapsed:    0.0s finished\n",
      "[Parallel(n_jobs=4)]: Using backend ThreadingBackend with 4 concurrent workers.\n",
      "[Parallel(n_jobs=4)]: Done  42 tasks      | elapsed:    0.0s\n",
      "[Parallel(n_jobs=4)]: Done 100 out of 100 | elapsed:    0.0s finished\n",
      "[Parallel(n_jobs=4)]: Using backend LokyBackend with 4 concurrent workers.\n",
      "c:\\Users\\heuse\\anaconda3\\lib\\site-packages\\sklearn\\base.py:310: UserWarning: Trying to unpickle estimator DecisionTreeClassifier from version 1.2.0 when using version 0.24.2. This might lead to breaking code or invalid results. Use at your own risk.\n",
      "  if hasattr(base_class, \"_more_tags\"):\n",
      "[Parallel(n_jobs=4)]: Done 100 out of 100 | elapsed:    1.5s finished\n",
      "[Parallel(n_jobs=4)]: Using backend ThreadingBackend with 4 concurrent workers.\n",
      "[Parallel(n_jobs=4)]: Done  42 tasks      | elapsed:    0.0s\n",
      "[Parallel(n_jobs=4)]: Done 100 out of 100 | elapsed:    0.0s finished\n",
      "[Parallel(n_jobs=4)]: Using backend ThreadingBackend with 4 concurrent workers.\n",
      "[Parallel(n_jobs=4)]: Done  42 tasks      | elapsed:    0.0s\n",
      "[Parallel(n_jobs=4)]: Done 100 out of 100 | elapsed:    0.0s finished\n",
      "[Parallel(n_jobs=4)]: Using backend LokyBackend with 4 concurrent workers.\n",
      "c:\\Users\\heuse\\anaconda3\\lib\\site-packages\\sklearn\\base.py:310: UserWarning: Trying to unpickle estimator DecisionTreeClassifier from version 1.2.0 when using version 0.24.2. This might lead to breaking code or invalid results. Use at your own risk.\n",
      "  if hasattr(base_class, \"_more_tags\"):\n",
      "[Parallel(n_jobs=4)]: Done  76 tasks      | elapsed:    2.5s\n",
      "[Parallel(n_jobs=4)]: Done 100 out of 100 | elapsed:    3.2s finished\n",
      "[Parallel(n_jobs=4)]: Using backend ThreadingBackend with 4 concurrent workers.\n",
      "[Parallel(n_jobs=4)]: Done  42 tasks      | elapsed:    0.0s\n",
      "[Parallel(n_jobs=4)]: Done 100 out of 100 | elapsed:    0.0s finished\n",
      "[Parallel(n_jobs=4)]: Using backend ThreadingBackend with 4 concurrent workers.\n",
      "[Parallel(n_jobs=4)]: Done  42 tasks      | elapsed:    0.0s\n",
      "[Parallel(n_jobs=4)]: Done 100 out of 100 | elapsed:    0.0s finished\n",
      "[Parallel(n_jobs=4)]: Using backend LokyBackend with 4 concurrent workers.\n",
      "c:\\Users\\heuse\\anaconda3\\lib\\site-packages\\sklearn\\base.py:310: UserWarning: Trying to unpickle estimator DecisionTreeClassifier from version 1.2.0 when using version 0.24.2. This might lead to breaking code or invalid results. Use at your own risk.\n",
      "  if hasattr(base_class, \"_more_tags\"):\n",
      "[Parallel(n_jobs=4)]: Done  76 tasks      | elapsed:    3.5s\n",
      "[Parallel(n_jobs=4)]: Done 100 out of 100 | elapsed:    4.5s finished\n",
      "[Parallel(n_jobs=4)]: Using backend ThreadingBackend with 4 concurrent workers.\n",
      "[Parallel(n_jobs=4)]: Done  42 tasks      | elapsed:    0.0s\n",
      "[Parallel(n_jobs=4)]: Done 100 out of 100 | elapsed:    0.0s finished\n",
      "[Parallel(n_jobs=4)]: Using backend ThreadingBackend with 4 concurrent workers.\n",
      "[Parallel(n_jobs=4)]: Done  42 tasks      | elapsed:    0.0s\n",
      "[Parallel(n_jobs=4)]: Done 100 out of 100 | elapsed:    0.1s finished\n",
      "[Parallel(n_jobs=4)]: Using backend LokyBackend with 4 concurrent workers.\n",
      "c:\\Users\\heuse\\anaconda3\\lib\\site-packages\\sklearn\\base.py:310: UserWarning: Trying to unpickle estimator DecisionTreeClassifier from version 1.2.0 when using version 0.24.2. This might lead to breaking code or invalid results. Use at your own risk.\n",
      "  if hasattr(base_class, \"_more_tags\"):\n",
      "[Parallel(n_jobs=4)]: Done  42 tasks      | elapsed:    2.8s\n",
      "[Parallel(n_jobs=4)]: Done 100 out of 100 | elapsed:    6.1s finished\n",
      "[Parallel(n_jobs=4)]: Using backend ThreadingBackend with 4 concurrent workers.\n",
      "[Parallel(n_jobs=4)]: Done  42 tasks      | elapsed:    0.0s\n",
      "[Parallel(n_jobs=4)]: Done 100 out of 100 | elapsed:    0.0s finished\n",
      "[Parallel(n_jobs=4)]: Using backend ThreadingBackend with 4 concurrent workers.\n",
      "[Parallel(n_jobs=4)]: Done  42 tasks      | elapsed:    0.0s\n",
      "[Parallel(n_jobs=4)]: Done 100 out of 100 | elapsed:    0.1s finished\n",
      "[Parallel(n_jobs=4)]: Using backend LokyBackend with 4 concurrent workers.\n",
      "c:\\Users\\heuse\\anaconda3\\lib\\site-packages\\sklearn\\base.py:310: UserWarning: Trying to unpickle estimator DecisionTreeClassifier from version 1.2.0 when using version 0.24.2. This might lead to breaking code or invalid results. Use at your own risk.\n",
      "  if hasattr(base_class, \"_more_tags\"):\n",
      "[Parallel(n_jobs=4)]: Done  42 tasks      | elapsed:    2.7s\n",
      "[Parallel(n_jobs=4)]: Done 100 out of 100 | elapsed:    6.7s finished\n",
      "[Parallel(n_jobs=4)]: Using backend ThreadingBackend with 4 concurrent workers.\n",
      "[Parallel(n_jobs=4)]: Done  42 tasks      | elapsed:    0.0s\n",
      "[Parallel(n_jobs=4)]: Done 100 out of 100 | elapsed:    0.0s finished\n",
      "[Parallel(n_jobs=4)]: Using backend ThreadingBackend with 4 concurrent workers.\n",
      "[Parallel(n_jobs=4)]: Done  42 tasks      | elapsed:    0.0s\n",
      "[Parallel(n_jobs=4)]: Done 100 out of 100 | elapsed:    0.1s finished\n",
      "[Parallel(n_jobs=4)]: Using backend LokyBackend with 4 concurrent workers.\n",
      "c:\\Users\\heuse\\anaconda3\\lib\\site-packages\\sklearn\\base.py:310: UserWarning: Trying to unpickle estimator DecisionTreeClassifier from version 1.2.0 when using version 0.24.2. This might lead to breaking code or invalid results. Use at your own risk.\n",
      "  if hasattr(base_class, \"_more_tags\"):\n",
      "[Parallel(n_jobs=4)]: Done  42 tasks      | elapsed:    4.3s\n",
      "[Parallel(n_jobs=4)]: Done 100 out of 100 | elapsed:    9.6s finished\n",
      "[Parallel(n_jobs=4)]: Using backend ThreadingBackend with 4 concurrent workers.\n",
      "[Parallel(n_jobs=4)]: Done  42 tasks      | elapsed:    0.0s\n",
      "[Parallel(n_jobs=4)]: Done 100 out of 100 | elapsed:    0.0s finished\n",
      "[Parallel(n_jobs=4)]: Using backend ThreadingBackend with 4 concurrent workers.\n",
      "[Parallel(n_jobs=4)]: Done  42 tasks      | elapsed:    0.0s\n",
      "[Parallel(n_jobs=4)]: Done 100 out of 100 | elapsed:    0.2s finished\n",
      "[Parallel(n_jobs=4)]: Using backend LokyBackend with 4 concurrent workers.\n",
      "c:\\Users\\heuse\\anaconda3\\lib\\site-packages\\sklearn\\base.py:310: UserWarning: Trying to unpickle estimator DecisionTreeClassifier from version 1.2.0 when using version 0.24.2. This might lead to breaking code or invalid results. Use at your own risk.\n",
      "  if hasattr(base_class, \"_more_tags\"):\n",
      "[Parallel(n_jobs=4)]: Done  42 tasks      | elapsed:    6.5s\n",
      "[Parallel(n_jobs=4)]: Done 100 out of 100 | elapsed:   12.6s finished\n",
      "[Parallel(n_jobs=4)]: Using backend ThreadingBackend with 4 concurrent workers.\n",
      "[Parallel(n_jobs=4)]: Done  42 tasks      | elapsed:    0.0s\n",
      "[Parallel(n_jobs=4)]: Done 100 out of 100 | elapsed:    0.0s finished\n",
      "[Parallel(n_jobs=4)]: Using backend ThreadingBackend with 4 concurrent workers.\n",
      "[Parallel(n_jobs=4)]: Done  42 tasks      | elapsed:    0.0s\n",
      "[Parallel(n_jobs=4)]: Done 100 out of 100 | elapsed:    0.2s finished\n",
      "[Parallel(n_jobs=4)]: Using backend LokyBackend with 4 concurrent workers.\n",
      "c:\\Users\\heuse\\anaconda3\\lib\\site-packages\\sklearn\\base.py:310: UserWarning: Trying to unpickle estimator DecisionTreeClassifier from version 1.2.0 when using version 0.24.2. This might lead to breaking code or invalid results. Use at your own risk.\n",
      "  if hasattr(base_class, \"_more_tags\"):\n",
      "[Parallel(n_jobs=4)]: Done  42 tasks      | elapsed:    5.6s\n",
      "[Parallel(n_jobs=4)]: Done 100 out of 100 | elapsed:   12.9s finished\n",
      "[Parallel(n_jobs=4)]: Using backend ThreadingBackend with 4 concurrent workers.\n",
      "[Parallel(n_jobs=4)]: Done  42 tasks      | elapsed:    0.0s\n",
      "[Parallel(n_jobs=4)]: Done 100 out of 100 | elapsed:    0.0s finished\n",
      "[Parallel(n_jobs=4)]: Using backend ThreadingBackend with 4 concurrent workers.\n",
      "[Parallel(n_jobs=4)]: Done  42 tasks      | elapsed:    0.1s\n",
      "[Parallel(n_jobs=4)]: Done 100 out of 100 | elapsed:    0.3s finished\n",
      "[Parallel(n_jobs=4)]: Using backend LokyBackend with 4 concurrent workers.\n",
      "c:\\Users\\heuse\\anaconda3\\lib\\site-packages\\sklearn\\base.py:310: UserWarning: Trying to unpickle estimator DecisionTreeClassifier from version 1.2.0 when using version 0.24.2. This might lead to breaking code or invalid results. Use at your own risk.\n",
      "  if hasattr(base_class, \"_more_tags\"):\n",
      "[Parallel(n_jobs=4)]: Done  42 tasks      | elapsed:    6.2s\n",
      "[Parallel(n_jobs=4)]: Done 100 out of 100 | elapsed:   16.3s finished\n",
      "[Parallel(n_jobs=4)]: Using backend ThreadingBackend with 4 concurrent workers.\n",
      "[Parallel(n_jobs=4)]: Done  42 tasks      | elapsed:    0.1s\n",
      "[Parallel(n_jobs=4)]: Done 100 out of 100 | elapsed:    0.2s finished\n",
      "[Parallel(n_jobs=4)]: Using backend ThreadingBackend with 4 concurrent workers.\n",
      "[Parallel(n_jobs=4)]: Done  42 tasks      | elapsed:    0.1s\n",
      "[Parallel(n_jobs=4)]: Done 100 out of 100 | elapsed:    0.3s finished\n",
      "[Parallel(n_jobs=4)]: Using backend LokyBackend with 4 concurrent workers.\n",
      "c:\\Users\\heuse\\anaconda3\\lib\\site-packages\\sklearn\\base.py:310: UserWarning: Trying to unpickle estimator DecisionTreeClassifier from version 1.2.0 when using version 0.24.2. This might lead to breaking code or invalid results. Use at your own risk.\n",
      "  if hasattr(base_class, \"_more_tags\"):\n",
      "[Parallel(n_jobs=4)]: Done 100 out of 100 | elapsed:    0.6s finished\n",
      "[Parallel(n_jobs=4)]: Using backend ThreadingBackend with 4 concurrent workers.\n",
      "[Parallel(n_jobs=4)]: Done  42 tasks      | elapsed:    0.0s\n",
      "[Parallel(n_jobs=4)]: Done 100 out of 100 | elapsed:    0.0s finished\n",
      "[Parallel(n_jobs=4)]: Using backend ThreadingBackend with 4 concurrent workers.\n",
      "[Parallel(n_jobs=4)]: Done  42 tasks      | elapsed:    0.0s\n",
      "[Parallel(n_jobs=4)]: Done 100 out of 100 | elapsed:    0.0s finished\n",
      "[Parallel(n_jobs=4)]: Using backend LokyBackend with 4 concurrent workers.\n",
      "c:\\Users\\heuse\\anaconda3\\lib\\site-packages\\sklearn\\base.py:310: UserWarning: Trying to unpickle estimator DecisionTreeClassifier from version 1.2.0 when using version 0.24.2. This might lead to breaking code or invalid results. Use at your own risk.\n",
      "  if hasattr(base_class, \"_more_tags\"):\n",
      "[Parallel(n_jobs=4)]: Done 100 out of 100 | elapsed:    1.3s finished\n",
      "[Parallel(n_jobs=4)]: Using backend ThreadingBackend with 4 concurrent workers.\n",
      "[Parallel(n_jobs=4)]: Done  42 tasks      | elapsed:    0.0s\n",
      "[Parallel(n_jobs=4)]: Done 100 out of 100 | elapsed:    0.0s finished\n",
      "[Parallel(n_jobs=4)]: Using backend ThreadingBackend with 4 concurrent workers.\n",
      "[Parallel(n_jobs=4)]: Done  42 tasks      | elapsed:    0.0s\n",
      "[Parallel(n_jobs=4)]: Done 100 out of 100 | elapsed:    0.0s finished\n",
      "[Parallel(n_jobs=4)]: Using backend LokyBackend with 4 concurrent workers.\n",
      "c:\\Users\\heuse\\anaconda3\\lib\\site-packages\\sklearn\\base.py:310: UserWarning: Trying to unpickle estimator DecisionTreeClassifier from version 1.2.0 when using version 0.24.2. This might lead to breaking code or invalid results. Use at your own risk.\n",
      "  if hasattr(base_class, \"_more_tags\"):\n",
      "[Parallel(n_jobs=4)]: Done  76 tasks      | elapsed:    2.9s\n",
      "[Parallel(n_jobs=4)]: Done 100 out of 100 | elapsed:    3.7s finished\n",
      "[Parallel(n_jobs=4)]: Using backend ThreadingBackend with 4 concurrent workers.\n",
      "[Parallel(n_jobs=4)]: Done  42 tasks      | elapsed:    0.0s\n",
      "[Parallel(n_jobs=4)]: Done 100 out of 100 | elapsed:    0.0s finished\n",
      "[Parallel(n_jobs=4)]: Using backend ThreadingBackend with 4 concurrent workers.\n",
      "[Parallel(n_jobs=4)]: Done  42 tasks      | elapsed:    0.0s\n",
      "[Parallel(n_jobs=4)]: Done 100 out of 100 | elapsed:    0.0s finished\n",
      "[Parallel(n_jobs=4)]: Using backend LokyBackend with 4 concurrent workers.\n",
      "c:\\Users\\heuse\\anaconda3\\lib\\site-packages\\sklearn\\base.py:310: UserWarning: Trying to unpickle estimator DecisionTreeClassifier from version 1.2.0 when using version 0.24.2. This might lead to breaking code or invalid results. Use at your own risk.\n",
      "  if hasattr(base_class, \"_more_tags\"):\n",
      "[Parallel(n_jobs=4)]: Done  42 tasks      | elapsed:    2.4s\n",
      "[Parallel(n_jobs=4)]: Done 100 out of 100 | elapsed:    4.9s finished\n",
      "[Parallel(n_jobs=4)]: Using backend ThreadingBackend with 4 concurrent workers.\n",
      "[Parallel(n_jobs=4)]: Done  42 tasks      | elapsed:    0.0s\n",
      "[Parallel(n_jobs=4)]: Done 100 out of 100 | elapsed:    0.0s finished\n",
      "[Parallel(n_jobs=4)]: Using backend ThreadingBackend with 4 concurrent workers.\n",
      "[Parallel(n_jobs=4)]: Done  42 tasks      | elapsed:    0.0s\n",
      "[Parallel(n_jobs=4)]: Done 100 out of 100 | elapsed:    0.0s finished\n",
      "[Parallel(n_jobs=4)]: Using backend LokyBackend with 4 concurrent workers.\n",
      "c:\\Users\\heuse\\anaconda3\\lib\\site-packages\\sklearn\\base.py:310: UserWarning: Trying to unpickle estimator DecisionTreeClassifier from version 1.2.0 when using version 0.24.2. This might lead to breaking code or invalid results. Use at your own risk.\n",
      "  if hasattr(base_class, \"_more_tags\"):\n",
      "[Parallel(n_jobs=4)]: Done  42 tasks      | elapsed:    2.3s\n",
      "[Parallel(n_jobs=4)]: Done 100 out of 100 | elapsed:    5.3s finished\n",
      "[Parallel(n_jobs=4)]: Using backend ThreadingBackend with 4 concurrent workers.\n",
      "[Parallel(n_jobs=4)]: Done  42 tasks      | elapsed:    0.0s\n",
      "[Parallel(n_jobs=4)]: Done 100 out of 100 | elapsed:    0.0s finished\n",
      "[Parallel(n_jobs=4)]: Using backend ThreadingBackend with 4 concurrent workers.\n",
      "[Parallel(n_jobs=4)]: Done  42 tasks      | elapsed:    0.0s\n",
      "[Parallel(n_jobs=4)]: Done 100 out of 100 | elapsed:    0.1s finished\n",
      "[Parallel(n_jobs=4)]: Using backend LokyBackend with 4 concurrent workers.\n",
      "c:\\Users\\heuse\\anaconda3\\lib\\site-packages\\sklearn\\base.py:310: UserWarning: Trying to unpickle estimator DecisionTreeClassifier from version 1.2.0 when using version 0.24.2. This might lead to breaking code or invalid results. Use at your own risk.\n",
      "  if hasattr(base_class, \"_more_tags\"):\n",
      "[Parallel(n_jobs=4)]: Done  42 tasks      | elapsed:    3.0s\n",
      "[Parallel(n_jobs=4)]: Done 100 out of 100 | elapsed:    6.7s finished\n",
      "[Parallel(n_jobs=4)]: Using backend ThreadingBackend with 4 concurrent workers.\n",
      "[Parallel(n_jobs=4)]: Done  42 tasks      | elapsed:    0.0s\n",
      "[Parallel(n_jobs=4)]: Done 100 out of 100 | elapsed:    0.0s finished\n",
      "[Parallel(n_jobs=4)]: Using backend ThreadingBackend with 4 concurrent workers.\n",
      "[Parallel(n_jobs=4)]: Done  42 tasks      | elapsed:    0.0s\n",
      "[Parallel(n_jobs=4)]: Done 100 out of 100 | elapsed:    0.1s finished\n",
      "[Parallel(n_jobs=4)]: Using backend LokyBackend with 4 concurrent workers.\n",
      "c:\\Users\\heuse\\anaconda3\\lib\\site-packages\\sklearn\\base.py:310: UserWarning: Trying to unpickle estimator DecisionTreeClassifier from version 1.2.0 when using version 0.24.2. This might lead to breaking code or invalid results. Use at your own risk.\n",
      "  if hasattr(base_class, \"_more_tags\"):\n",
      "[Parallel(n_jobs=4)]: Done  42 tasks      | elapsed:    4.8s\n"
     ]
    },
    {
     "ename": "KeyboardInterrupt",
     "evalue": "",
     "output_type": "error",
     "traceback": [
      "\u001b[1;31m---------------------------------------------------------------------------\u001b[0m",
      "\u001b[1;31mKeyboardInterrupt\u001b[0m                         Traceback (most recent call last)",
      "\u001b[1;32m~\\AppData\\Local\\Temp/ipykernel_259872/346239657.py\u001b[0m in \u001b[0;36m<module>\u001b[1;34m\u001b[0m\n\u001b[0;32m      6\u001b[0m     ])\n\u001b[0;32m      7\u001b[0m     \u001b[1;31m#X, y = randomize(mailout_train_cleaned)\u001b[0m\u001b[1;33m\u001b[0m\u001b[1;33m\u001b[0m\u001b[0m\n\u001b[1;32m----> 8\u001b[1;33m     \u001b[0mdraw_learning_curves\u001b[0m\u001b[1;33m(\u001b[0m\u001b[0mX\u001b[0m\u001b[1;33m,\u001b[0m \u001b[0my\u001b[0m\u001b[1;33m,\u001b[0m \u001b[0mml_pipeline\u001b[0m\u001b[1;33m,\u001b[0m \u001b[1;36m10\u001b[0m\u001b[1;33m)\u001b[0m\u001b[1;33m\u001b[0m\u001b[1;33m\u001b[0m\u001b[0m\n\u001b[0m",
      "\u001b[1;32m~\\AppData\\Local\\Temp/ipykernel_259872/820877624.py\u001b[0m in \u001b[0;36mdraw_learning_curves\u001b[1;34m(X, y, estimator, num_trainings)\u001b[0m\n\u001b[0;32m     14\u001b[0m     \"\"\"\n\u001b[0;32m     15\u001b[0m \u001b[1;33m\u001b[0m\u001b[0m\n\u001b[1;32m---> 16\u001b[1;33m     train_sizes, train_scores, test_scores = learning_curve(\n\u001b[0m\u001b[0;32m     17\u001b[0m         \u001b[0mestimator\u001b[0m\u001b[1;33m,\u001b[0m \u001b[0mX\u001b[0m\u001b[1;33m,\u001b[0m \u001b[0my\u001b[0m\u001b[1;33m,\u001b[0m \u001b[0mscoring\u001b[0m \u001b[1;33m=\u001b[0m \u001b[1;34m'roc_auc'\u001b[0m\u001b[1;33m,\u001b[0m\u001b[1;33m\u001b[0m\u001b[1;33m\u001b[0m\u001b[0m\n\u001b[0;32m     18\u001b[0m         \u001b[0mtrain_sizes\u001b[0m\u001b[1;33m=\u001b[0m\u001b[0mnp\u001b[0m\u001b[1;33m.\u001b[0m\u001b[0mlinspace\u001b[0m\u001b[1;33m(\u001b[0m\u001b[1;36m.1\u001b[0m\u001b[1;33m,\u001b[0m \u001b[1;36m1.0\u001b[0m\u001b[1;33m,\u001b[0m \u001b[0mnum_trainings\u001b[0m\u001b[1;33m)\u001b[0m\u001b[1;33m,\u001b[0m\u001b[1;33m\u001b[0m\u001b[1;33m\u001b[0m\u001b[0m\n",
      "\u001b[1;32mc:\\Users\\heuse\\anaconda3\\lib\\site-packages\\sklearn\\utils\\validation.py\u001b[0m in \u001b[0;36minner_f\u001b[1;34m(*args, **kwargs)\u001b[0m\n\u001b[0;32m     61\u001b[0m         \u001b[1;32mfor\u001b[0m \u001b[0mname\u001b[0m\u001b[1;33m,\u001b[0m \u001b[0mparam\u001b[0m \u001b[1;32min\u001b[0m \u001b[0msig\u001b[0m\u001b[1;33m.\u001b[0m\u001b[0mparameters\u001b[0m\u001b[1;33m.\u001b[0m\u001b[0mitems\u001b[0m\u001b[1;33m(\u001b[0m\u001b[1;33m)\u001b[0m\u001b[1;33m:\u001b[0m\u001b[1;33m\u001b[0m\u001b[1;33m\u001b[0m\u001b[0m\n\u001b[0;32m     62\u001b[0m             \u001b[1;32mif\u001b[0m \u001b[0mparam\u001b[0m\u001b[1;33m.\u001b[0m\u001b[0mkind\u001b[0m \u001b[1;33m==\u001b[0m \u001b[0mParameter\u001b[0m\u001b[1;33m.\u001b[0m\u001b[0mPOSITIONAL_OR_KEYWORD\u001b[0m\u001b[1;33m:\u001b[0m\u001b[1;33m\u001b[0m\u001b[1;33m\u001b[0m\u001b[0m\n\u001b[1;32m---> 63\u001b[1;33m                 \u001b[0mall_args\u001b[0m\u001b[1;33m.\u001b[0m\u001b[0mappend\u001b[0m\u001b[1;33m(\u001b[0m\u001b[0mname\u001b[0m\u001b[1;33m)\u001b[0m\u001b[1;33m\u001b[0m\u001b[1;33m\u001b[0m\u001b[0m\n\u001b[0m\u001b[0;32m     64\u001b[0m             \u001b[1;32melif\u001b[0m \u001b[0mparam\u001b[0m\u001b[1;33m.\u001b[0m\u001b[0mkind\u001b[0m \u001b[1;33m==\u001b[0m \u001b[0mParameter\u001b[0m\u001b[1;33m.\u001b[0m\u001b[0mKEYWORD_ONLY\u001b[0m\u001b[1;33m:\u001b[0m\u001b[1;33m\u001b[0m\u001b[1;33m\u001b[0m\u001b[0m\n\u001b[0;32m     65\u001b[0m                 \u001b[0mkwonly_args\u001b[0m\u001b[1;33m.\u001b[0m\u001b[0mappend\u001b[0m\u001b[1;33m(\u001b[0m\u001b[0mname\u001b[0m\u001b[1;33m)\u001b[0m\u001b[1;33m\u001b[0m\u001b[1;33m\u001b[0m\u001b[0m\n",
      "\u001b[1;32mc:\\Users\\heuse\\anaconda3\\lib\\site-packages\\sklearn\\model_selection\\_validation.py\u001b[0m in \u001b[0;36mlearning_curve\u001b[1;34m(estimator, X, y, groups, train_sizes, cv, scoring, exploit_incremental_learning, n_jobs, pre_dispatch, verbose, shuffle, random_state, error_score, return_times, fit_params)\u001b[0m\n\u001b[0;32m   1410\u001b[0m     \u001b[0mcv\u001b[0m \u001b[1;33m:\u001b[0m \u001b[0mint\u001b[0m\u001b[1;33m,\u001b[0m \u001b[0mcross\u001b[0m\u001b[1;33m-\u001b[0m\u001b[0mvalidation\u001b[0m \u001b[0mgenerator\u001b[0m \u001b[1;32mor\u001b[0m \u001b[0man\u001b[0m \u001b[0miterable\u001b[0m\u001b[1;33m,\u001b[0m \u001b[0mdefault\u001b[0m\u001b[1;33m=\u001b[0m\u001b[1;32mNone\u001b[0m\u001b[1;33m\u001b[0m\u001b[1;33m\u001b[0m\u001b[0m\n\u001b[0;32m   1411\u001b[0m         \u001b[0mDetermines\u001b[0m \u001b[0mthe\u001b[0m \u001b[0mcross\u001b[0m\u001b[1;33m-\u001b[0m\u001b[0mvalidation\u001b[0m \u001b[0msplitting\u001b[0m \u001b[0mstrategy\u001b[0m\u001b[1;33m.\u001b[0m\u001b[1;33m\u001b[0m\u001b[1;33m\u001b[0m\u001b[0m\n\u001b[1;32m-> 1412\u001b[1;33m         \u001b[0mPossible\u001b[0m \u001b[0minputs\u001b[0m \u001b[1;32mfor\u001b[0m \u001b[0mcv\u001b[0m \u001b[0mare\u001b[0m\u001b[1;33m:\u001b[0m\u001b[1;33m\u001b[0m\u001b[1;33m\u001b[0m\u001b[0m\n\u001b[0m\u001b[0;32m   1413\u001b[0m \u001b[1;33m\u001b[0m\u001b[0m\n\u001b[0;32m   1414\u001b[0m         \u001b[1;33m-\u001b[0m \u001b[1;32mNone\u001b[0m\u001b[1;33m,\u001b[0m \u001b[0mto\u001b[0m \u001b[0muse\u001b[0m \u001b[0mthe\u001b[0m \u001b[0mdefault\u001b[0m \u001b[1;36m5\u001b[0m\u001b[1;33m-\u001b[0m\u001b[0mfold\u001b[0m \u001b[0mcross\u001b[0m \u001b[0mvalidation\u001b[0m\u001b[1;33m,\u001b[0m\u001b[1;33m\u001b[0m\u001b[1;33m\u001b[0m\u001b[0m\n",
      "\u001b[1;32mc:\\Users\\heuse\\anaconda3\\lib\\site-packages\\joblib\\parallel.py\u001b[0m in \u001b[0;36m__call__\u001b[1;34m(self, iterable)\u001b[0m\n\u001b[0;32m   1044\u001b[0m             \u001b[0mself\u001b[0m\u001b[1;33m.\u001b[0m\u001b[0m_backend\u001b[0m\u001b[1;33m.\u001b[0m\u001b[0mstart_call\u001b[0m\u001b[1;33m(\u001b[0m\u001b[1;33m)\u001b[0m\u001b[1;33m\u001b[0m\u001b[1;33m\u001b[0m\u001b[0m\n\u001b[0;32m   1045\u001b[0m         \u001b[0miterator\u001b[0m \u001b[1;33m=\u001b[0m \u001b[0miter\u001b[0m\u001b[1;33m(\u001b[0m\u001b[0miterable\u001b[0m\u001b[1;33m)\u001b[0m\u001b[1;33m\u001b[0m\u001b[1;33m\u001b[0m\u001b[0m\n\u001b[1;32m-> 1046\u001b[1;33m         \u001b[0mpre_dispatch\u001b[0m \u001b[1;33m=\u001b[0m \u001b[0mself\u001b[0m\u001b[1;33m.\u001b[0m\u001b[0mpre_dispatch\u001b[0m\u001b[1;33m\u001b[0m\u001b[1;33m\u001b[0m\u001b[0m\n\u001b[0m\u001b[0;32m   1047\u001b[0m \u001b[1;33m\u001b[0m\u001b[0m\n\u001b[0;32m   1048\u001b[0m         \u001b[1;32mif\u001b[0m \u001b[0mpre_dispatch\u001b[0m \u001b[1;33m==\u001b[0m \u001b[1;34m'all'\u001b[0m \u001b[1;32mor\u001b[0m \u001b[0mn_jobs\u001b[0m \u001b[1;33m==\u001b[0m \u001b[1;36m1\u001b[0m\u001b[1;33m:\u001b[0m\u001b[1;33m\u001b[0m\u001b[1;33m\u001b[0m\u001b[0m\n",
      "\u001b[1;32mc:\\Users\\heuse\\anaconda3\\lib\\site-packages\\joblib\\parallel.py\u001b[0m in \u001b[0;36mdispatch_one_batch\u001b[1;34m(self, iterator)\u001b[0m\n\u001b[0;32m    859\u001b[0m             \u001b[1;31m# queue, _ready_batches, that is looked-up prior to re-consuming\u001b[0m\u001b[1;33m\u001b[0m\u001b[1;33m\u001b[0m\u001b[0m\n\u001b[0;32m    860\u001b[0m             \u001b[1;31m# tasks from the origal iterator.\u001b[0m\u001b[1;33m\u001b[0m\u001b[1;33m\u001b[0m\u001b[0m\n\u001b[1;32m--> 861\u001b[1;33m             \u001b[1;32mtry\u001b[0m\u001b[1;33m:\u001b[0m\u001b[1;33m\u001b[0m\u001b[1;33m\u001b[0m\u001b[0m\n\u001b[0m\u001b[0;32m    862\u001b[0m                 \u001b[0mtasks\u001b[0m \u001b[1;33m=\u001b[0m \u001b[0mself\u001b[0m\u001b[1;33m.\u001b[0m\u001b[0m_ready_batches\u001b[0m\u001b[1;33m.\u001b[0m\u001b[0mget\u001b[0m\u001b[1;33m(\u001b[0m\u001b[0mblock\u001b[0m\u001b[1;33m=\u001b[0m\u001b[1;32mFalse\u001b[0m\u001b[1;33m)\u001b[0m\u001b[1;33m\u001b[0m\u001b[1;33m\u001b[0m\u001b[0m\n\u001b[0;32m    863\u001b[0m             \u001b[1;32mexcept\u001b[0m \u001b[0mqueue\u001b[0m\u001b[1;33m.\u001b[0m\u001b[0mEmpty\u001b[0m\u001b[1;33m:\u001b[0m\u001b[1;33m\u001b[0m\u001b[1;33m\u001b[0m\u001b[0m\n",
      "\u001b[1;32mc:\\Users\\heuse\\anaconda3\\lib\\site-packages\\joblib\\parallel.py\u001b[0m in \u001b[0;36m_dispatch\u001b[1;34m(self, batch)\u001b[0m\n\u001b[0;32m    777\u001b[0m             \u001b[1;32mif\u001b[0m \u001b[0mself\u001b[0m\u001b[1;33m.\u001b[0m\u001b[0mtimeout\u001b[0m \u001b[1;32mis\u001b[0m \u001b[1;32mnot\u001b[0m \u001b[1;32mNone\u001b[0m \u001b[1;32mand\u001b[0m \u001b[1;32mnot\u001b[0m \u001b[0mself\u001b[0m\u001b[1;33m.\u001b[0m\u001b[0m_backend\u001b[0m\u001b[1;33m.\u001b[0m\u001b[0msupports_timeout\u001b[0m\u001b[1;33m:\u001b[0m\u001b[1;33m\u001b[0m\u001b[1;33m\u001b[0m\u001b[0m\n\u001b[0;32m    778\u001b[0m                 warnings.warn(\n\u001b[1;32m--> 779\u001b[1;33m                     \u001b[1;34m'The backend class {!r} does not support timeout. '\u001b[0m\u001b[1;33m\u001b[0m\u001b[1;33m\u001b[0m\u001b[0m\n\u001b[0m\u001b[0;32m    780\u001b[0m                     \u001b[1;34m\"You have set 'timeout={}' in Parallel but \"\u001b[0m\u001b[1;33m\u001b[0m\u001b[1;33m\u001b[0m\u001b[0m\n\u001b[0;32m    781\u001b[0m                     \"the 'timeout' parameter will not be used.\".format(\n",
      "\u001b[1;32mc:\\Users\\heuse\\anaconda3\\lib\\site-packages\\joblib\\_parallel_backends.py\u001b[0m in \u001b[0;36mapply_async\u001b[1;34m(self, func, callback)\u001b[0m\n\u001b[0;32m    206\u001b[0m     \u001b[1;32mdef\u001b[0m \u001b[0mapply_async\u001b[0m\u001b[1;33m(\u001b[0m\u001b[0mself\u001b[0m\u001b[1;33m,\u001b[0m \u001b[0mfunc\u001b[0m\u001b[1;33m,\u001b[0m \u001b[0mcallback\u001b[0m\u001b[1;33m=\u001b[0m\u001b[1;32mNone\u001b[0m\u001b[1;33m)\u001b[0m\u001b[1;33m:\u001b[0m\u001b[1;33m\u001b[0m\u001b[1;33m\u001b[0m\u001b[0m\n\u001b[0;32m    207\u001b[0m         \u001b[1;34m\"\"\"Schedule a func to be run\"\"\"\u001b[0m\u001b[1;33m\u001b[0m\u001b[1;33m\u001b[0m\u001b[0m\n\u001b[1;32m--> 208\u001b[1;33m         \u001b[0mresult\u001b[0m \u001b[1;33m=\u001b[0m \u001b[0mImmediateResult\u001b[0m\u001b[1;33m(\u001b[0m\u001b[0mfunc\u001b[0m\u001b[1;33m)\u001b[0m\u001b[1;33m\u001b[0m\u001b[1;33m\u001b[0m\u001b[0m\n\u001b[0m\u001b[0;32m    209\u001b[0m         \u001b[1;32mif\u001b[0m \u001b[0mcallback\u001b[0m\u001b[1;33m:\u001b[0m\u001b[1;33m\u001b[0m\u001b[1;33m\u001b[0m\u001b[0m\n\u001b[0;32m    210\u001b[0m             \u001b[0mcallback\u001b[0m\u001b[1;33m(\u001b[0m\u001b[0mresult\u001b[0m\u001b[1;33m)\u001b[0m\u001b[1;33m\u001b[0m\u001b[1;33m\u001b[0m\u001b[0m\n",
      "\u001b[1;32mc:\\Users\\heuse\\anaconda3\\lib\\site-packages\\joblib\\_parallel_backends.py\u001b[0m in \u001b[0;36m__init__\u001b[1;34m(self, batch)\u001b[0m\n\u001b[0;32m    570\u001b[0m \u001b[1;33m\u001b[0m\u001b[0m\n\u001b[0;32m    571\u001b[0m     \u001b[1;32mdef\u001b[0m \u001b[0mterminate\u001b[0m\u001b[1;33m(\u001b[0m\u001b[0mself\u001b[0m\u001b[1;33m)\u001b[0m\u001b[1;33m:\u001b[0m\u001b[1;33m\u001b[0m\u001b[1;33m\u001b[0m\u001b[0m\n\u001b[1;32m--> 572\u001b[1;33m         \u001b[1;32mif\u001b[0m \u001b[0mself\u001b[0m\u001b[1;33m.\u001b[0m\u001b[0m_workers\u001b[0m \u001b[1;32mis\u001b[0m \u001b[1;32mnot\u001b[0m \u001b[1;32mNone\u001b[0m\u001b[1;33m:\u001b[0m\u001b[1;33m\u001b[0m\u001b[1;33m\u001b[0m\u001b[0m\n\u001b[0m\u001b[0;32m    573\u001b[0m             \u001b[1;31m# Don't terminate the workers as we want to reuse them in later\u001b[0m\u001b[1;33m\u001b[0m\u001b[1;33m\u001b[0m\u001b[0m\n\u001b[0;32m    574\u001b[0m             \u001b[1;31m# calls, but cleanup the temporary resources that the Parallel call\u001b[0m\u001b[1;33m\u001b[0m\u001b[1;33m\u001b[0m\u001b[0m\n",
      "\u001b[1;32mc:\\Users\\heuse\\anaconda3\\lib\\site-packages\\joblib\\parallel.py\u001b[0m in \u001b[0;36m__call__\u001b[1;34m(self)\u001b[0m\n\u001b[0;32m    260\u001b[0m \u001b[1;31m# of causing semantic changes and some additional pool instantiation overhead.\u001b[0m\u001b[1;33m\u001b[0m\u001b[1;33m\u001b[0m\u001b[0m\n\u001b[0;32m    261\u001b[0m \u001b[0mDEFAULT_MP_CONTEXT\u001b[0m \u001b[1;33m=\u001b[0m \u001b[1;32mNone\u001b[0m\u001b[1;33m\u001b[0m\u001b[1;33m\u001b[0m\u001b[0m\n\u001b[1;32m--> 262\u001b[1;33m \u001b[1;32mif\u001b[0m \u001b[0mhasattr\u001b[0m\u001b[1;33m(\u001b[0m\u001b[0mmp\u001b[0m\u001b[1;33m,\u001b[0m \u001b[1;34m'get_context'\u001b[0m\u001b[1;33m)\u001b[0m\u001b[1;33m:\u001b[0m\u001b[1;33m\u001b[0m\u001b[1;33m\u001b[0m\u001b[0m\n\u001b[0m\u001b[0;32m    263\u001b[0m     \u001b[0mmethod\u001b[0m \u001b[1;33m=\u001b[0m \u001b[0mos\u001b[0m\u001b[1;33m.\u001b[0m\u001b[0menviron\u001b[0m\u001b[1;33m.\u001b[0m\u001b[0mget\u001b[0m\u001b[1;33m(\u001b[0m\u001b[1;34m'JOBLIB_START_METHOD'\u001b[0m\u001b[1;33m,\u001b[0m \u001b[1;34m''\u001b[0m\u001b[1;33m)\u001b[0m\u001b[1;33m.\u001b[0m\u001b[0mstrip\u001b[0m\u001b[1;33m(\u001b[0m\u001b[1;33m)\u001b[0m \u001b[1;32mor\u001b[0m \u001b[1;32mNone\u001b[0m\u001b[1;33m\u001b[0m\u001b[1;33m\u001b[0m\u001b[0m\n\u001b[0;32m    264\u001b[0m     \u001b[1;32mif\u001b[0m \u001b[0mmethod\u001b[0m \u001b[1;32mis\u001b[0m \u001b[1;32mnot\u001b[0m \u001b[1;32mNone\u001b[0m\u001b[1;33m:\u001b[0m\u001b[1;33m\u001b[0m\u001b[1;33m\u001b[0m\u001b[0m\n",
      "\u001b[1;32mc:\\Users\\heuse\\anaconda3\\lib\\site-packages\\joblib\\parallel.py\u001b[0m in \u001b[0;36m<listcomp>\u001b[1;34m(.0)\u001b[0m\n\u001b[0;32m    260\u001b[0m \u001b[1;31m# of causing semantic changes and some additional pool instantiation overhead.\u001b[0m\u001b[1;33m\u001b[0m\u001b[1;33m\u001b[0m\u001b[0m\n\u001b[0;32m    261\u001b[0m \u001b[0mDEFAULT_MP_CONTEXT\u001b[0m \u001b[1;33m=\u001b[0m \u001b[1;32mNone\u001b[0m\u001b[1;33m\u001b[0m\u001b[1;33m\u001b[0m\u001b[0m\n\u001b[1;32m--> 262\u001b[1;33m \u001b[1;32mif\u001b[0m \u001b[0mhasattr\u001b[0m\u001b[1;33m(\u001b[0m\u001b[0mmp\u001b[0m\u001b[1;33m,\u001b[0m \u001b[1;34m'get_context'\u001b[0m\u001b[1;33m)\u001b[0m\u001b[1;33m:\u001b[0m\u001b[1;33m\u001b[0m\u001b[1;33m\u001b[0m\u001b[0m\n\u001b[0m\u001b[0;32m    263\u001b[0m     \u001b[0mmethod\u001b[0m \u001b[1;33m=\u001b[0m \u001b[0mos\u001b[0m\u001b[1;33m.\u001b[0m\u001b[0menviron\u001b[0m\u001b[1;33m.\u001b[0m\u001b[0mget\u001b[0m\u001b[1;33m(\u001b[0m\u001b[1;34m'JOBLIB_START_METHOD'\u001b[0m\u001b[1;33m,\u001b[0m \u001b[1;34m''\u001b[0m\u001b[1;33m)\u001b[0m\u001b[1;33m.\u001b[0m\u001b[0mstrip\u001b[0m\u001b[1;33m(\u001b[0m\u001b[1;33m)\u001b[0m \u001b[1;32mor\u001b[0m \u001b[1;32mNone\u001b[0m\u001b[1;33m\u001b[0m\u001b[1;33m\u001b[0m\u001b[0m\n\u001b[0;32m    264\u001b[0m     \u001b[1;32mif\u001b[0m \u001b[0mmethod\u001b[0m \u001b[1;32mis\u001b[0m \u001b[1;32mnot\u001b[0m \u001b[1;32mNone\u001b[0m\u001b[1;33m:\u001b[0m\u001b[1;33m\u001b[0m\u001b[1;33m\u001b[0m\u001b[0m\n",
      "\u001b[1;32mc:\\Users\\heuse\\anaconda3\\lib\\site-packages\\sklearn\\utils\\fixes.py\u001b[0m in \u001b[0;36m__call__\u001b[1;34m(self, *args, **kwargs)\u001b[0m\n",
      "\u001b[1;32mc:\\Users\\heuse\\anaconda3\\lib\\site-packages\\sklearn\\model_selection\\_validation.py\u001b[0m in \u001b[0;36m_fit_and_score\u001b[1;34m(estimator, X, y, scorer, train, test, verbose, parameters, fit_params, return_train_score, return_parameters, return_n_test_samples, return_times, return_estimator, split_progress, candidate_progress, error_score)\u001b[0m\n\u001b[0;32m    596\u001b[0m         \u001b[0mCompute\u001b[0m \u001b[1;32mand\u001b[0m \u001b[1;32mreturn\u001b[0m \u001b[0mscore\u001b[0m \u001b[0mon\u001b[0m \u001b[0mtraining\u001b[0m \u001b[0mset\u001b[0m\u001b[1;33m.\u001b[0m\u001b[1;33m\u001b[0m\u001b[1;33m\u001b[0m\u001b[0m\n\u001b[0;32m    597\u001b[0m \u001b[1;33m\u001b[0m\u001b[0m\n\u001b[1;32m--> 598\u001b[1;33m     \u001b[0mreturn_parameters\u001b[0m \u001b[1;33m:\u001b[0m \u001b[0mbool\u001b[0m\u001b[1;33m,\u001b[0m \u001b[0mdefault\u001b[0m\u001b[1;33m=\u001b[0m\u001b[1;32mFalse\u001b[0m\u001b[1;33m\u001b[0m\u001b[1;33m\u001b[0m\u001b[0m\n\u001b[0m\u001b[0;32m    599\u001b[0m         \u001b[0mReturn\u001b[0m \u001b[0mparameters\u001b[0m \u001b[0mthat\u001b[0m \u001b[0mhas\u001b[0m \u001b[0mbeen\u001b[0m \u001b[0mused\u001b[0m \u001b[1;32mfor\u001b[0m \u001b[0mthe\u001b[0m \u001b[0mestimator\u001b[0m\u001b[1;33m.\u001b[0m\u001b[1;33m\u001b[0m\u001b[1;33m\u001b[0m\u001b[0m\n\u001b[0;32m    600\u001b[0m \u001b[1;33m\u001b[0m\u001b[0m\n",
      "\u001b[1;32mc:\\Users\\heuse\\anaconda3\\lib\\site-packages\\sklearn\\pipeline.py\u001b[0m in \u001b[0;36mfit\u001b[1;34m(self, X, y, **fit_params)\u001b[0m\n\u001b[0;32m    344\u001b[0m         \u001b[0mfit_transform_one_cached\u001b[0m \u001b[1;33m=\u001b[0m \u001b[0mmemory\u001b[0m\u001b[1;33m.\u001b[0m\u001b[0mcache\u001b[0m\u001b[1;33m(\u001b[0m\u001b[0m_fit_transform_one\u001b[0m\u001b[1;33m)\u001b[0m\u001b[1;33m\u001b[0m\u001b[1;33m\u001b[0m\u001b[0m\n\u001b[0;32m    345\u001b[0m \u001b[1;33m\u001b[0m\u001b[0m\n\u001b[1;32m--> 346\u001b[1;33m         for step_idx, name, transformer in self._iter(\n\u001b[0m\u001b[0;32m    347\u001b[0m             \u001b[0mwith_final\u001b[0m\u001b[1;33m=\u001b[0m\u001b[1;32mFalse\u001b[0m\u001b[1;33m,\u001b[0m \u001b[0mfilter_passthrough\u001b[0m\u001b[1;33m=\u001b[0m\u001b[1;32mFalse\u001b[0m\u001b[1;33m\u001b[0m\u001b[1;33m\u001b[0m\u001b[0m\n\u001b[0;32m    348\u001b[0m         ):\n",
      "\u001b[1;32mc:\\Users\\heuse\\anaconda3\\lib\\site-packages\\sklearn\\ensemble\\_forest.py\u001b[0m in \u001b[0;36mfit\u001b[1;34m(self, X, y, sample_weight)\u001b[0m\n\u001b[0;32m    385\u001b[0m \u001b[1;33m\u001b[0m\u001b[0m\n\u001b[0;32m    386\u001b[0m         \u001b[0my\u001b[0m\u001b[1;33m,\u001b[0m \u001b[0mexpanded_class_weight\u001b[0m \u001b[1;33m=\u001b[0m \u001b[0mself\u001b[0m\u001b[1;33m.\u001b[0m\u001b[0m_validate_y_class_weight\u001b[0m\u001b[1;33m(\u001b[0m\u001b[0my\u001b[0m\u001b[1;33m)\u001b[0m\u001b[1;33m\u001b[0m\u001b[1;33m\u001b[0m\u001b[0m\n\u001b[1;32m--> 387\u001b[1;33m \u001b[1;33m\u001b[0m\u001b[0m\n\u001b[0m\u001b[0;32m    388\u001b[0m         \u001b[1;32mif\u001b[0m \u001b[0mgetattr\u001b[0m\u001b[1;33m(\u001b[0m\u001b[0my\u001b[0m\u001b[1;33m,\u001b[0m \u001b[1;34m\"dtype\"\u001b[0m\u001b[1;33m,\u001b[0m \u001b[1;32mNone\u001b[0m\u001b[1;33m)\u001b[0m \u001b[1;33m!=\u001b[0m \u001b[0mDOUBLE\u001b[0m \u001b[1;32mor\u001b[0m \u001b[1;32mnot\u001b[0m \u001b[0my\u001b[0m\u001b[1;33m.\u001b[0m\u001b[0mflags\u001b[0m\u001b[1;33m.\u001b[0m\u001b[0mcontiguous\u001b[0m\u001b[1;33m:\u001b[0m\u001b[1;33m\u001b[0m\u001b[1;33m\u001b[0m\u001b[0m\n\u001b[0;32m    389\u001b[0m             \u001b[0my\u001b[0m \u001b[1;33m=\u001b[0m \u001b[0mnp\u001b[0m\u001b[1;33m.\u001b[0m\u001b[0mascontiguousarray\u001b[0m\u001b[1;33m(\u001b[0m\u001b[0my\u001b[0m\u001b[1;33m,\u001b[0m \u001b[0mdtype\u001b[0m\u001b[1;33m=\u001b[0m\u001b[0mDOUBLE\u001b[0m\u001b[1;33m)\u001b[0m\u001b[1;33m\u001b[0m\u001b[1;33m\u001b[0m\u001b[0m\n",
      "\u001b[1;32mc:\\Users\\heuse\\anaconda3\\lib\\site-packages\\joblib\\parallel.py\u001b[0m in \u001b[0;36m__call__\u001b[1;34m(self, iterable)\u001b[0m\n\u001b[0;32m   1054\u001b[0m             \u001b[1;32mif\u001b[0m \u001b[0mhasattr\u001b[0m\u001b[1;33m(\u001b[0m\u001b[0mpre_dispatch\u001b[0m\u001b[1;33m,\u001b[0m \u001b[1;34m'endswith'\u001b[0m\u001b[1;33m)\u001b[0m\u001b[1;33m:\u001b[0m\u001b[1;33m\u001b[0m\u001b[1;33m\u001b[0m\u001b[0m\n\u001b[0;32m   1055\u001b[0m                 pre_dispatch = eval_expr(\n\u001b[1;32m-> 1056\u001b[1;33m                     \u001b[0mpre_dispatch\u001b[0m\u001b[1;33m.\u001b[0m\u001b[0mreplace\u001b[0m\u001b[1;33m(\u001b[0m\u001b[1;34m\"n_jobs\"\u001b[0m\u001b[1;33m,\u001b[0m \u001b[0mstr\u001b[0m\u001b[1;33m(\u001b[0m\u001b[0mn_jobs\u001b[0m\u001b[1;33m)\u001b[0m\u001b[1;33m)\u001b[0m\u001b[1;33m\u001b[0m\u001b[1;33m\u001b[0m\u001b[0m\n\u001b[0m\u001b[0;32m   1057\u001b[0m                 )\n\u001b[0;32m   1058\u001b[0m             \u001b[0mself\u001b[0m\u001b[1;33m.\u001b[0m\u001b[0m_pre_dispatch_amount\u001b[0m \u001b[1;33m=\u001b[0m \u001b[0mpre_dispatch\u001b[0m \u001b[1;33m=\u001b[0m \u001b[0mint\u001b[0m\u001b[1;33m(\u001b[0m\u001b[0mpre_dispatch\u001b[0m\u001b[1;33m)\u001b[0m\u001b[1;33m\u001b[0m\u001b[1;33m\u001b[0m\u001b[0m\n",
      "\u001b[1;32mc:\\Users\\heuse\\anaconda3\\lib\\site-packages\\joblib\\parallel.py\u001b[0m in \u001b[0;36mretrieve\u001b[1;34m(self)\u001b[0m\n\u001b[0;32m    933\u001b[0m             self._print('Done %3i tasks      | elapsed: %s',\n\u001b[0;32m    934\u001b[0m                         (self.n_completed_tasks,\n\u001b[1;32m--> 935\u001b[1;33m                          short_format_time(elapsed_time), ))\n\u001b[0m\u001b[0;32m    936\u001b[0m         \u001b[1;32melse\u001b[0m\u001b[1;33m:\u001b[0m\u001b[1;33m\u001b[0m\u001b[1;33m\u001b[0m\u001b[0m\n\u001b[0;32m    937\u001b[0m             \u001b[0mindex\u001b[0m \u001b[1;33m=\u001b[0m \u001b[0mself\u001b[0m\u001b[1;33m.\u001b[0m\u001b[0mn_completed_tasks\u001b[0m\u001b[1;33m\u001b[0m\u001b[1;33m\u001b[0m\u001b[0m\n",
      "\u001b[1;32mc:\\Users\\heuse\\anaconda3\\lib\\site-packages\\joblib\\_parallel_backends.py\u001b[0m in \u001b[0;36mwrap_future_result\u001b[1;34m(future, timeout)\u001b[0m\n\u001b[0;32m    540\u001b[0m \u001b[1;33m\u001b[0m\u001b[0m\n\u001b[0;32m    541\u001b[0m             \u001b[1;32mreturn\u001b[0m \u001b[1;36m1\u001b[0m\u001b[1;33m\u001b[0m\u001b[1;33m\u001b[0m\u001b[0m\n\u001b[1;32m--> 542\u001b[1;33m         \u001b[1;32melif\u001b[0m \u001b[1;32mnot\u001b[0m \u001b[1;33m(\u001b[0m\u001b[0mself\u001b[0m\u001b[1;33m.\u001b[0m\u001b[0min_main_thread\u001b[0m\u001b[1;33m(\u001b[0m\u001b[1;33m)\u001b[0m \u001b[1;32mor\u001b[0m \u001b[0mself\u001b[0m\u001b[1;33m.\u001b[0m\u001b[0mnesting_level\u001b[0m \u001b[1;33m==\u001b[0m \u001b[1;36m0\u001b[0m\u001b[1;33m)\u001b[0m\u001b[1;33m:\u001b[0m\u001b[1;33m\u001b[0m\u001b[1;33m\u001b[0m\u001b[0m\n\u001b[0m\u001b[0;32m    543\u001b[0m             \u001b[1;31m# Prevent posix fork inside in non-main posix threads\u001b[0m\u001b[1;33m\u001b[0m\u001b[1;33m\u001b[0m\u001b[0m\n\u001b[0;32m    544\u001b[0m             \u001b[1;32mif\u001b[0m \u001b[0mn_jobs\u001b[0m \u001b[1;33m!=\u001b[0m \u001b[1;36m1\u001b[0m\u001b[1;33m:\u001b[0m\u001b[1;33m\u001b[0m\u001b[1;33m\u001b[0m\u001b[0m\n",
      "\u001b[1;32mc:\\Users\\heuse\\anaconda3\\lib\\concurrent\\futures\\_base.py\u001b[0m in \u001b[0;36mresult\u001b[1;34m(self, timeout)\u001b[0m\n\u001b[0;32m    438\u001b[0m                     \u001b[1;32mreturn\u001b[0m \u001b[0mself\u001b[0m\u001b[1;33m.\u001b[0m\u001b[0m__get_result\u001b[0m\u001b[1;33m(\u001b[0m\u001b[1;33m)\u001b[0m\u001b[1;33m\u001b[0m\u001b[1;33m\u001b[0m\u001b[0m\n\u001b[0;32m    439\u001b[0m \u001b[1;33m\u001b[0m\u001b[0m\n\u001b[1;32m--> 440\u001b[1;33m                 \u001b[0mself\u001b[0m\u001b[1;33m.\u001b[0m\u001b[0m_condition\u001b[0m\u001b[1;33m.\u001b[0m\u001b[0mwait\u001b[0m\u001b[1;33m(\u001b[0m\u001b[0mtimeout\u001b[0m\u001b[1;33m)\u001b[0m\u001b[1;33m\u001b[0m\u001b[1;33m\u001b[0m\u001b[0m\n\u001b[0m\u001b[0;32m    441\u001b[0m \u001b[1;33m\u001b[0m\u001b[0m\n\u001b[0;32m    442\u001b[0m                 \u001b[1;32mif\u001b[0m \u001b[0mself\u001b[0m\u001b[1;33m.\u001b[0m\u001b[0m_state\u001b[0m \u001b[1;32min\u001b[0m \u001b[1;33m[\u001b[0m\u001b[0mCANCELLED\u001b[0m\u001b[1;33m,\u001b[0m \u001b[0mCANCELLED_AND_NOTIFIED\u001b[0m\u001b[1;33m]\u001b[0m\u001b[1;33m:\u001b[0m\u001b[1;33m\u001b[0m\u001b[1;33m\u001b[0m\u001b[0m\n",
      "\u001b[1;32mc:\\Users\\heuse\\anaconda3\\lib\\threading.py\u001b[0m in \u001b[0;36mwait\u001b[1;34m(self, timeout)\u001b[0m\n\u001b[0;32m    310\u001b[0m         \u001b[1;32mtry\u001b[0m\u001b[1;33m:\u001b[0m    \u001b[1;31m# restore state no matter what (e.g., KeyboardInterrupt)\u001b[0m\u001b[1;33m\u001b[0m\u001b[1;33m\u001b[0m\u001b[0m\n\u001b[0;32m    311\u001b[0m             \u001b[1;32mif\u001b[0m \u001b[0mtimeout\u001b[0m \u001b[1;32mis\u001b[0m \u001b[1;32mNone\u001b[0m\u001b[1;33m:\u001b[0m\u001b[1;33m\u001b[0m\u001b[1;33m\u001b[0m\u001b[0m\n\u001b[1;32m--> 312\u001b[1;33m                 \u001b[0mwaiter\u001b[0m\u001b[1;33m.\u001b[0m\u001b[0macquire\u001b[0m\u001b[1;33m(\u001b[0m\u001b[1;33m)\u001b[0m\u001b[1;33m\u001b[0m\u001b[1;33m\u001b[0m\u001b[0m\n\u001b[0m\u001b[0;32m    313\u001b[0m                 \u001b[0mgotit\u001b[0m \u001b[1;33m=\u001b[0m \u001b[1;32mTrue\u001b[0m\u001b[1;33m\u001b[0m\u001b[1;33m\u001b[0m\u001b[0m\n\u001b[0;32m    314\u001b[0m             \u001b[1;32melse\u001b[0m\u001b[1;33m:\u001b[0m\u001b[1;33m\u001b[0m\u001b[1;33m\u001b[0m\u001b[0m\n",
      "\u001b[1;31mKeyboardInterrupt\u001b[0m: "
     ]
    }
   ],
   "source": [
    "for key_m, m_value in unsupervised_models.items():\n",
    "    print(key_m)\n",
    "    ml_pipeline = Pipeline([\n",
    "        ('transform', pre_pipe_columntransformer),\n",
    "        ('model', m_value)\n",
    "    ])\n",
    "    #X, y = randomize(mailout_train_cleaned)\n",
    "    draw_learning_curves(X, y, ml_pipeline, 10)"
   ]
  },
  {
   "attachments": {},
   "cell_type": "markdown",
   "metadata": {},
   "source": [
    "### Hyperparamter tunig for the final model"
   ]
  },
  {
   "cell_type": "code",
   "execution_count": 400,
   "metadata": {},
   "outputs": [],
   "source": [
    "# define hyperparamters\n",
    "final_pipeline = gbc_pipeline = Pipeline([\n",
    "    ('transform', pre_pipe_columntransformer),\n",
    "    ('classifier', GradientBoostingClassifier(max_depth=2 ,verbose=2))\n",
    "])\n",
    "tuning_paramters = {\n",
    "    'classifier__subsample' : [0.5, 0.75],\n",
    "    'classifier__n_estimators': [100],\n",
    "    'classifier__max_depth': [2,3],\n",
    "    'classifier__min_samples_split': [2,4]\n",
    "\n",
    "}"
   ]
  },
  {
   "cell_type": "code",
   "execution_count": 402,
   "metadata": {},
   "outputs": [],
   "source": [
    "# search parameters\n",
    "# \n",
    "randSCV =  RandomizedSearchCV(final_pipeline, tuning_paramters, \n",
    "    scoring = 'roc_auc',\n",
    "    n_iter = 5,\n",
    "    verbose=2\n",
    "    )"
   ]
  },
  {
   "cell_type": "code",
   "execution_count": 403,
   "metadata": {},
   "outputs": [
    {
     "name": "stderr",
     "output_type": "stream",
     "text": [
      "c:\\Users\\heuse\\anaconda3\\lib\\site-packages\\sklearn\\model_selection\\_search.py:285: UserWarning: The total space of parameters 4 is smaller than n_iter=5. Running 4 iterations. For exhaustive searches, use GridSearchCV.\n",
      "  self.random_state = random_state\n"
     ]
    },
    {
     "name": "stdout",
     "output_type": "stream",
     "text": [
      "Fitting 5 folds for each of 4 candidates, totalling 20 fits\n",
      "[CV] END classifier__max_depth=2, classifier__n_estimators=100, classifier__subsample=0.5; total time=  44.4s\n",
      "[CV] END classifier__max_depth=2, classifier__n_estimators=100, classifier__subsample=0.5; total time=  35.6s\n",
      "[CV] END classifier__max_depth=2, classifier__n_estimators=100, classifier__subsample=0.5; total time=  35.0s\n",
      "[CV] END classifier__max_depth=2, classifier__n_estimators=100, classifier__subsample=0.5; total time=  37.8s\n",
      "[CV] END classifier__max_depth=2, classifier__n_estimators=100, classifier__subsample=0.5; total time=  36.2s\n",
      "[CV] END classifier__max_depth=2, classifier__n_estimators=100, classifier__subsample=0.75; total time=  49.6s\n",
      "[CV] END classifier__max_depth=2, classifier__n_estimators=100, classifier__subsample=0.75; total time=  49.2s\n",
      "[CV] END classifier__max_depth=2, classifier__n_estimators=100, classifier__subsample=0.75; total time=  50.1s\n",
      "[CV] END classifier__max_depth=2, classifier__n_estimators=100, classifier__subsample=0.75; total time=  51.4s\n",
      "[CV] END classifier__max_depth=2, classifier__n_estimators=100, classifier__subsample=0.75; total time=  49.3s\n",
      "[CV] END classifier__max_depth=4, classifier__n_estimators=100, classifier__subsample=0.5; total time= 1.1min\n",
      "[CV] END classifier__max_depth=4, classifier__n_estimators=100, classifier__subsample=0.5; total time= 1.0min\n",
      "[CV] END classifier__max_depth=4, classifier__n_estimators=100, classifier__subsample=0.5; total time= 1.1min\n",
      "[CV] END classifier__max_depth=4, classifier__n_estimators=100, classifier__subsample=0.5; total time=  58.4s\n",
      "[CV] END classifier__max_depth=4, classifier__n_estimators=100, classifier__subsample=0.5; total time= 1.0min\n",
      "[CV] END classifier__max_depth=4, classifier__n_estimators=100, classifier__subsample=0.75; total time= 1.5min\n",
      "[CV] END classifier__max_depth=4, classifier__n_estimators=100, classifier__subsample=0.75; total time= 1.4min\n",
      "[CV] END classifier__max_depth=4, classifier__n_estimators=100, classifier__subsample=0.75; total time= 1.4min\n",
      "[CV] END classifier__max_depth=4, classifier__n_estimators=100, classifier__subsample=0.75; total time= 1.4min\n",
      "[CV] END classifier__max_depth=4, classifier__n_estimators=100, classifier__subsample=0.75; total time= 1.4min\n"
     ]
    },
    {
     "data": {
      "text/plain": [
       "{'classifier__subsample': 0.5,\n",
       " 'classifier__n_estimators': 100,\n",
       " 'classifier__max_depth': 2}"
      ]
     },
     "execution_count": 403,
     "metadata": {},
     "output_type": "execute_result"
    }
   ],
   "source": [
    "search = randSCV.fit(X,y)\n",
    "search.best_params_"
   ]
  },
  {
   "cell_type": "code",
   "execution_count": 409,
   "metadata": {},
   "outputs": [],
   "source": [
    "# Use the searched best parameters for predciting\n",
    "best_search = search.best_params_\n",
    "best_predict = search.predict_proba(X)[:,1] "
   ]
  },
  {
   "cell_type": "code",
   "execution_count": 411,
   "metadata": {},
   "outputs": [
    {
     "data": {
      "text/plain": [
       "0.7790743356151396"
      ]
     },
     "execution_count": 411,
     "metadata": {},
     "output_type": "execute_result"
    }
   ],
   "source": [
    "roc_auc_score(y,best_predict)"
   ]
  },
  {
   "cell_type": "code",
   "execution_count": 415,
   "metadata": {},
   "outputs": [
    {
     "data": {
      "image/png": "[encoded data removed]",
      "text/plain": [
       "<Figure size 432x288 with 1 Axes>"
      ]
     },
     "metadata": {
      "needs_background": "light"
     },
     "output_type": "display_data"
    }
   ],
   "source": [
    "import sklearn.metrics as metrics\n",
    "preds = best_predict\n",
    "fpr, tpr, threshold = metrics.roc_curve(y, preds)\n",
    "roc_auc = metrics.auc(fpr, tpr)\n",
    "\n",
    "# method I: plt\n",
    "import matplotlib.pyplot as plt\n",
    "plt.title('Receiver Operating Characteristic')\n",
    "plt.plot(fpr, tpr, 'b', label = 'AUC = %0.2f' % roc_auc)\n",
    "plt.legend(loc = 'lower right')\n",
    "plt.plot([0, 1], [0, 1],'r--')\n",
    "plt.xlim([0, 1])\n",
    "plt.ylim([0, 1])\n",
    "plt.ylabel('True Positive Rate')\n",
    "plt.xlabel('False Positive Rate')\n",
    "plt.show()"
   ]
  },
  {
   "cell_type": "code",
   "execution_count": 433,
   "metadata": {},
   "outputs": [
    {
     "data": {
      "text/plain": [
       "array([0.0080145 , 0.00208092, 0.        , 0.        , 0.00176312,\n",
       "       0.00533217, 0.        , 0.        , 0.00378965, 0.        ,\n",
       "       0.        , 0.        , 0.        , 0.        , 0.        ,\n",
       "       0.01208628, 0.        , 0.        , 0.00167609, 0.        ,\n",
       "       0.00176306, 0.        , 0.0023229 , 0.        , 0.        ,\n",
       "       0.        , 0.        , 0.        , 0.        , 0.        ,\n",
       "       0.        , 0.        , 0.        , 0.        , 0.        ,\n",
       "       0.        , 0.        , 0.        , 0.        , 0.        ,\n",
       "       0.        , 0.00565867, 0.        , 0.        , 0.        ,\n",
       "       0.02050961, 0.        , 0.0014687 , 0.0053529 , 0.        ,\n",
       "       0.004134  , 0.18091791, 0.        , 0.03637983, 0.03721308,\n",
       "       0.        , 0.        , 0.        , 0.        , 0.        ,\n",
       "       0.        , 0.        , 0.        , 0.        , 0.        ,\n",
       "       0.00625184, 0.02580895, 0.00135283, 0.00462955, 0.        ,\n",
       "       0.        , 0.        , 0.00281078, 0.        , 0.02216484,\n",
       "       0.        , 0.        , 0.        , 0.00343914, 0.        ,\n",
       "       0.        , 0.01466672, 0.        , 0.        , 0.        ,\n",
       "       0.        , 0.01976979, 0.        , 0.00240126, 0.00212816,\n",
       "       0.00173911, 0.00231411, 0.11691052, 0.        , 0.        ,\n",
       "       0.00145602, 0.        , 0.        , 0.        , 0.        ,\n",
       "       0.00121115, 0.00211239, 0.        , 0.        , 0.        ,\n",
       "       0.        , 0.        , 0.00328341, 0.        , 0.        ,\n",
       "       0.00716175, 0.        , 0.        , 0.00176441, 0.00196352,\n",
       "       0.        , 0.00057999, 0.        , 0.        , 0.        ,\n",
       "       0.01413253, 0.        , 0.00248857, 0.        , 0.        ,\n",
       "       0.00345965, 0.00188232, 0.        , 0.01163214, 0.00281747,\n",
       "       0.        , 0.        , 0.        , 0.        , 0.        ,\n",
       "       0.        , 0.        , 0.        , 0.0182874 , 0.        ,\n",
       "       0.0193745 , 0.        , 0.        , 0.        , 0.01069228,\n",
       "       0.00165899, 0.        , 0.        , 0.00235611, 0.        ,\n",
       "       0.00673729, 0.00162856, 0.        , 0.        , 0.        ,\n",
       "       0.00212406, 0.        , 0.        , 0.        , 0.00159048,\n",
       "       0.00495961, 0.00145527, 0.        , 0.        , 0.        ,\n",
       "       0.        , 0.00797434, 0.00278319, 0.00393649, 0.        ,\n",
       "       0.00152105, 0.0032742 , 0.        , 0.        , 0.        ,\n",
       "       0.00270323, 0.00179999, 0.        , 0.0018214 , 0.00279926,\n",
       "       0.00215895, 0.        , 0.00185909, 0.        , 0.        ,\n",
       "       0.        , 0.        , 0.        , 0.        , 0.        ,\n",
       "       0.00224943, 0.        , 0.        , 0.00538982, 0.        ,\n",
       "       0.        , 0.01196535, 0.        , 0.        , 0.00150107,\n",
       "       0.        , 0.        , 0.00332748, 0.        , 0.        ,\n",
       "       0.        , 0.        , 0.00164886, 0.00199993, 0.        ,\n",
       "       0.01404581, 0.        , 0.        , 0.        , 0.        ,\n",
       "       0.        , 0.        , 0.        , 0.        , 0.02486043,\n",
       "       0.        , 0.        , 0.        , 0.        , 0.        ,\n",
       "       0.        , 0.        , 0.        , 0.        , 0.        ,\n",
       "       0.        , 0.00313077, 0.00147266, 0.        , 0.        ,\n",
       "       0.        , 0.        , 0.        , 0.        , 0.00218504,\n",
       "       0.00231591, 0.0045638 , 0.        , 0.        , 0.        ,\n",
       "       0.00600059, 0.        , 0.        , 0.        , 0.        ,\n",
       "       0.        , 0.        , 0.        , 0.        , 0.        ,\n",
       "       0.02825227, 0.00198509, 0.00179778, 0.        , 0.        ,\n",
       "       0.        , 0.        , 0.        , 0.        , 0.        ,\n",
       "       0.        , 0.0021675 , 0.        , 0.        , 0.        ,\n",
       "       0.        , 0.        , 0.        , 0.        , 0.        ,\n",
       "       0.        , 0.        , 0.        , 0.0024445 , 0.        ,\n",
       "       0.        , 0.        , 0.        , 0.        , 0.        ,\n",
       "       0.        , 0.00267335, 0.00368359, 0.0011738 , 0.        ,\n",
       "       0.        , 0.        , 0.        , 0.        , 0.        ,\n",
       "       0.        , 0.        , 0.        , 0.        , 0.        ,\n",
       "       0.00132083, 0.        , 0.        , 0.        , 0.        ,\n",
       "       0.        , 0.0146824 , 0.00220122, 0.        , 0.        ,\n",
       "       0.        , 0.00201185, 0.        , 0.        , 0.00243804,\n",
       "       0.        , 0.00364022, 0.        , 0.00628069, 0.        ,\n",
       "       0.        , 0.        , 0.        , 0.        , 0.00200555,\n",
       "       0.        , 0.        , 0.        , 0.00632206, 0.        ,\n",
       "       0.        , 0.        , 0.        , 0.        , 0.        ,\n",
       "       0.00224652, 0.        , 0.00584655, 0.        , 0.        ,\n",
       "       0.        , 0.00636107, 0.        , 0.        , 0.        ,\n",
       "       0.        , 0.        , 0.        , 0.        , 0.        ,\n",
       "       0.        , 0.00398914, 0.00545178, 0.        , 0.        ,\n",
       "       0.        , 0.01961669, 0.        , 0.00137688, 0.00527691,\n",
       "       0.00201827, 0.        , 0.        , 0.        , 0.        ,\n",
       "       0.00522062, 0.00206293, 0.        , 0.00119285, 0.        ,\n",
       "       0.00397419, 0.        , 0.00200629, 0.        , 0.        ,\n",
       "       0.        , 0.        , 0.        , 0.        , 0.01831117,\n",
       "       0.        , 0.00193661, 0.00253827, 0.        , 0.00521245,\n",
       "       0.00134376, 0.014098  , 0.        , 0.00188932, 0.        ,\n",
       "       0.        , 0.        ])"
      ]
     },
     "execution_count": 433,
     "metadata": {},
     "output_type": "execute_result"
    }
   ],
   "source": [
    "search.best_estimator_[1].feature_importances_"
   ]
  },
  {
   "cell_type": "code",
   "execution_count": 446,
   "metadata": {},
   "outputs": [],
   "source": [
    "final_cols = all_cols"
   ]
  },
  {
   "cell_type": "code",
   "execution_count": 450,
   "metadata": {},
   "outputs": [
    {
     "data": {
      "image/png": "[encoded data removed]",
      "text/plain": [
       "<Figure size 504x720 with 1 Axes>"
      ]
     },
     "metadata": {
      "needs_background": "light"
     },
     "output_type": "display_data"
    }
   ],
   "source": [
    "feature_importances = search.best_estimator_[1].feature_importances_\n",
    "pd.Series(feature_importances, index=final_cols).sort_values()[-10:].plot(kind='barh', figsize=(7,10))\n",
    "plt.xlabel('feature importance')\n",
    "plt.title('Feature importance by clusters');"
   ]
  },
  {
   "cell_type": "code",
   "execution_count": null,
   "metadata": {},
   "outputs": [],
   "source": []
  },
  {
   "cell_type": "code",
   "execution_count": 497,
   "metadata": {},
   "outputs": [
    {
     "data": {
      "text/plain": [
       "<matplotlib.legend.Legend at 0x1e13e70a880>"
      ]
     },
     "execution_count": 497,
     "metadata": {},
     "output_type": "execute_result"
    },
    {
     "data": {
      "image/png": "[encoded data removed]",
      "text/plain": [
       "<Figure size 1152x432 with 1 Axes>"
      ]
     },
     "metadata": {
      "needs_background": "light"
     },
     "output_type": "display_data"
    }
   ],
   "source": [
    "# Plot ANZ_KINDER distribution in relevant clusters\n",
    "x1=customers_cleaned.iloc[customers_cleaned[customers_cleaned['Cluster'] == 1].index]['ANZ_KINDER']\n",
    "x2=customers_cleaned.iloc[customers_cleaned[customers_cleaned['Cluster'] == 3].index]['ANZ_KINDER']\n",
    "x3=customers_cleaned.iloc[customers_cleaned[customers_cleaned['Cluster'] == 4].index]['ANZ_KINDER']\n",
    "\n",
    "# x1=customers_cleaned.iloc[customers_cleaned.index]['ANZ_KINDER']\n",
    "# x2=customers_cleaned.iloc[customers_cleaned.index]['ANZ_KINDER']\n",
    "\n",
    "fig, ax = plt.subplots(figsize=(16,6))\n",
    "\n",
    "width = 0.35 \n",
    "\n",
    "p1 = plt.hist(x1, width=width, label='Cluster 1')\n",
    "p2 = plt.hist(x2, width=width, label='Cluster 3')\n",
    "p3 = plt.hist(x2, width=width, label='Cluster 4')\n",
    "\n",
    "plt.title('Distribution of ANZ_KINDER among interested clusters')\n",
    "plt.ylabel('Count')\n",
    "plt.xlabel('Attribute value')\n",
    "plt.legend()"
   ]
  },
  {
   "attachments": {},
   "cell_type": "markdown",
   "metadata": {},
   "source": [
    "# References\n",
    "\n",
    "+ https://scikit-learn.org/stable/modules/generated/sklearn.preprocessing.OneHotEncoder.html\n",
    "+ https://scikit-learn.org/stable/modules/generated/sklearn.preprocessing.StandardScaler.html\n",
    "+ https://scikit-learn.org/stable/modules/generated/sklearn.compose.ColumnTransformer.html\n",
    "+ https://towardsdatascience.com/pca-using-python-scikit-learn-e653f8989e60\n",
    "+ https://stackoverflow.com/questions/28501072/how-to-check-which-version-of-nltk-scikit-learn-installed\n",
    "+ https://scikit-learn.org/stable/auto_examples/preprocessing/plot_scaling_importance.html#sphx-glr-auto-examples-preprocessing-plot-scaling-importance-py\n",
    "+ https://www.anyscale.com/blog/how-to-speed-up-scikit-learn-model-training\n",
    "+ https://stackoverflow.com/questions/54646709/sklearn-pipeline-get-feature-names-after-onehotencode-in-columntransformer\n",
    "+ https://stackoverflow.com/questions/25009284/how-to-plot-roc-curve-in-python"
   ]
  },
  {
   "cell_type": "markdown",
   "metadata": {},
   "source": []
  }
 ],
 "metadata": {
  "kernelspec": {
   "display_name": "Python 3.9.7 ('base')",
   "language": "python",
   "name": "python3"
  },
  "language_info": {
   "codemirror_mode": {
    "name": "ipython",
    "version": 3
   },
   "file_extension": ".py",
   "mimetype": "text/x-python",
   "name": "python",
   "nbconvert_exporter": "python",
   "pygments_lexer": "ipython3",
   "version": "3.9.7"
  },
  "vscode": {
   "interpreter": {
    "hash": "47c0fc4e0d038ae915347f3e0652d8d3ec9061f5399eb83a3b36288bc2a7b85d"
   }
  }
 },
 "nbformat": 4,
 "nbformat_minor": 2
}
